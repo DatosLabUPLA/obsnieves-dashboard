{
 "cells": [
  {
   "cell_type": "code",
   "execution_count": null,
   "metadata": {},
   "outputs": [],
   "source": [
    "import ee\n",
    "import geemap\n",
    "import os\n",
    "import datetime\n",
    "import gc\n",
    "from multiprocessing import Pool"
   ]
  },
  {
   "cell_type": "code",
   "execution_count": null,
   "metadata": {},
   "outputs": [],
   "source": [
    "service_account = 'promedio-a--de-nieve-6bbfb64d1@ee-ezequiellagos.iam.gserviceaccount.com'\n",
    "credentials = ee.ServiceAccountCredentials(service_account, 'ee-ezequiellagos-0e8769baf6cb.json')\n",
    "ee.Initialize(credentials)"
   ]
  },
  {
   "cell_type": "code",
   "execution_count": null,
   "metadata": {},
   "outputs": [],
   "source": [
    "# Calculo de días a generar\n",
    "days_delta = 4\n",
    "date_start_str = '2000_02_24'\n",
    "\n",
    "date_start = datetime.datetime.strptime(date_start_str, '%Y_%m_%d')\n",
    "date_now = datetime.datetime.now() - datetime.timedelta(days=days_delta)\n",
    "days_amount =  (date_now - date_start).days\n",
    "\n",
    "# Lista de fechas\n",
    "list_of_days = []\n",
    "for i in range(days_amount + 1):\n",
    "    date_now = date_start + datetime.timedelta(days=i)\n",
    "    date_now_str = date_now.strftime('%Y_%m_%d')\n",
    "    list_of_days.append(date_now_str)\n",
    "list_of_days.reverse()"
   ]
  },
  {
   "cell_type": "code",
   "execution_count": null,
   "metadata": {},
   "outputs": [],
   "source": [
    "Map = geemap.Map(center=[-32.639,-70.8484], zoom=9)\n",
    "Map.clear_controls()\n",
    "\n",
    "streamflow = ee.FeatureCollection(\"WWF/HydroSHEDS/v1/FreeFlowingRivers\").filter(ee.Filter.eq('BAS_ID', 3975615)).style(color= 'B2B2B3')\n",
    "aconcagua_cuenca = ee.FeatureCollection(\"users/observatorionieves/DGA/aconcagua_cuenca\").style(color= '#FF0000', width=1, fillColor= '00000000')\n",
    "subsubcuencas_ms = ee.FeatureCollection(\"users/observatorionieves/DGA/aconcagua_subsubcuencas_ms\")\n",
    "\n",
    "Map.add_basemap('SATELLITE')\n",
    "\n",
    "colorizedVis = {\n",
    "  'min': 0.0,\n",
    "  'max': 100.0,\n",
    "  'palette': ['#ffffff','#ffffd9','#edf8b1','#c7e9b4','#7fcdbb','#41b6c4','#1d91c0','#225ea8','#253494','#081d58']\n",
    "}\n",
    "\n",
    "Map.addLayer(streamflow,{},'Red hídrica') \n",
    "Map.addLayer(aconcagua_cuenca,{},'Cuenca Río Aconcagua')\n",
    "Map.addLayer(subsubcuencas_ms.style(fillColor= '00000000',color= '#000000', width= 1),{},'Selección media-superior cuenca del Río Aconcagua')\n",
    "# Map"
   ]
  },
  {
   "cell_type": "code",
   "execution_count": null,
   "metadata": {},
   "outputs": [],
   "source": [
    "def generate_html_per_day(date):\n",
    "  try:\n",
    "    current_time = datetime.datetime.now()\n",
    "\n",
    "    MODIScollection = ee.Image('MODIS/006/MOD10A1/' + date).select(['NDSI_Snow_Cover'],['Snow_Albedo_Daily_Tile_Class']).clip(subsubcuencas_ms)\n",
    "    Map.addLayer(MODIScollection,colorizedVis,\"NDSI promedio\") \n",
    "    \n",
    "    # Generar HTML\n",
    "    production = False\n",
    "    if production:\n",
    "        download_dir_base = 'web/media/maps/modis/doy/terra'\n",
    "    else:\n",
    "        download_dir_base = 'Downloads/maps/modis/doy/terra'\n",
    "    \n",
    "    html_file_name = date + '.html'\n",
    "    title_html = 'MODIS Terra DOY - '+ date\n",
    "    output = f'{current_time}: MODIS Terra DOY {date}'\n",
    "\n",
    "    download_dir = os.path.join(os.path.expanduser('~'), download_dir_base)\n",
    "    if not os.path.exists(download_dir):\n",
    "        os.makedirs(download_dir)\n",
    "    html_file = os.path.join(download_dir, html_file_name)\n",
    "\n",
    "    Map.to_html(outfile=html_file, title=title_html, width='100%', height='570px')\n",
    "    print(output)\n",
    "\n",
    "    Map.remove_ee_layer('NDSI promedio')\n",
    "\n",
    "    # Liberar memoria\n",
    "    gc.collect()\n",
    "\n",
    "  except Exception as e:\n",
    "    print(e)\n",
    "\n",
    "pool_obj = Pool()\n",
    "pool_obj.map(generate_html_per_day, list_of_days)\n"
   ]
  },
  {
   "cell_type": "code",
   "execution_count": null,
   "metadata": {},
   "outputs": [],
   "source": [
    "# MODIScollection_2 = ee.ImageCollection('MODIS/006/MOD10A1').select('NDSI_Snow_Cover')\n",
    "# print(MODIScollection_2.aggregate_array('system:id').getInfo())"
   ]
  }
 ],
 "metadata": {
  "interpreter": {
   "hash": "811ab489599c171fb6d0eaf76a606e9022cc89f8dbf213b9dc9043c9c727f5d4"
  },
  "kernelspec": {
   "display_name": "Python 3.8.8 ('geo')",
   "language": "python",
   "name": "python3"
  },
  "language_info": {
   "codemirror_mode": {
    "name": "ipython",
    "version": 3
   },
   "file_extension": ".py",
   "mimetype": "text/x-python",
   "name": "python",
   "nbconvert_exporter": "python",
   "pygments_lexer": "ipython3",
   "version": "3.8.8"
  },
  "orig_nbformat": 4
 },
 "nbformat": 4,
 "nbformat_minor": 2
}
