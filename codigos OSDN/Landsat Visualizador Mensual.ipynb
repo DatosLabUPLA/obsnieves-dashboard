{
 "cells": [
  {
   "cell_type": "code",
   "execution_count": 1,
   "metadata": {},
   "outputs": [],
   "source": [
    "import ee\n",
    "import geemap\n",
    "import os\n",
    "import datetime\n",
    "import calendar"
   ]
  },
  {
   "cell_type": "code",
   "execution_count": 2,
   "metadata": {},
   "outputs": [],
   "source": [
    "service_account = 'promedio-a--de-nieve-6bbfb64d1@ee-ezequiellagos.iam.gserviceaccount.com'\n",
    "credentials = ee.ServiceAccountCredentials(service_account, 'ee-ezequiellagos-0e8769baf6cb.json')\n",
    "ee.Initialize(credentials)"
   ]
  },
  {
   "cell_type": "code",
   "execution_count": 4,
   "metadata": {},
   "outputs": [
    {
     "name": "stdout",
     "output_type": "stream",
     "text": [
      "2022-05-17 14:30:03.696405: Landsat Mensual January\n",
      "2022-05-17 14:30:08.475691: Landsat Mensual February\n",
      "2022-05-17 14:30:11.928829: Landsat Mensual March\n",
      "2022-05-17 14:30:16.017833: Landsat Mensual April\n",
      "2022-05-17 14:30:19.006157: Landsat Mensual May\n",
      "2022-05-17 14:30:22.147160: Landsat Mensual June\n",
      "2022-05-17 14:30:25.481366: Landsat Mensual July\n",
      "2022-05-17 14:30:28.882367: Landsat Mensual August\n",
      "2022-05-17 14:30:32.786412: Landsat Mensual September\n",
      "2022-05-17 14:30:37.036415: Landsat Mensual October\n",
      "2022-05-17 14:30:40.560454: Landsat Mensual November\n",
      "2022-05-17 14:30:44.308395: Landsat Mensual December\n"
     ]
    }
   ],
   "source": [
    "now = datetime.datetime.now()\n",
    "\n",
    "for month in range(1, 13):\n",
    "  try:\n",
    "    current_time = datetime.datetime.now()\n",
    "\n",
    "    Map = geemap.Map(center=[-32.639,-70.8484], zoom=9)\n",
    "\n",
    "    snowmonthly = ee.Image('users/observatorionieves/Landsat/Snow_Monthly/' + str(month).zfill(2)).select('NDSI')\n",
    "    streamflow = ee.FeatureCollection(\"WWF/HydroSHEDS/v1/FreeFlowingRivers\").filter(ee.Filter.eq('BAS_ID', 3975615)).style(color= 'B2B2B3')\n",
    "    aconcagua_cuenca = ee.FeatureCollection(\"users/observatorionieves/DGA/aconcagua_cuenca\").style(color= '000', width=1, fillColor= '00000000')\n",
    "    subsubcuencas_ms = ee.FeatureCollection(\"users/observatorionieves/DGA/aconcagua_subsubcuencas_ms\").style(color= '000', width= 1, fillColor= '00000000')\n",
    "\n",
    "    colorizedVis = {\n",
    "      'min': 0.0,\n",
    "      'max': 100.0,\n",
    "      'palette': ['#ffffff','#ffffd9','#edf8b1','#c7e9b4','#7fcdbb','#41b6c4','#1d91c0','#225ea8','#253494','#081d58']\n",
    "    }\n",
    "\n",
    "    Map.add_basemap('SATELLITE')\n",
    "    Map.addLayer(snowmonthly,colorizedVis,\"Nieve caída\") \n",
    "    Map.addLayer(streamflow,{},'Red hídrica') \n",
    "    Map.addLayer(aconcagua_cuenca,{},'Aconcagua cuenca')\n",
    "    Map.addLayer(subsubcuencas_ms,{},'Aconcagua subsubcuencas')\n",
    "    Map.add_colorbar(colorizedVis,label='Promedio de presencia de nieve (%)')#,orientation='vertical')\n",
    "    # Map\n",
    "\n",
    "    # Generar HTML\n",
    "    production = False\n",
    "    if production:\n",
    "        download_dir_base = 'web/media/maps/landsat/mensual'\n",
    "    else:\n",
    "        download_dir_base = 'Downloads/maps/landsat/mensual'\n",
    "    \n",
    "    html_file_name = calendar.month_name[month].lower() + '.html'\n",
    "    title_html = 'Landsat Mensual - '+ calendar.month_name[month]\n",
    "    output = f'{current_time}: Landsat Mensual {calendar.month_name[month]}'\n",
    "\n",
    "    download_dir = os.path.join(os.path.expanduser('~'), download_dir_base)\n",
    "    if not os.path.exists(download_dir):\n",
    "        os.makedirs(download_dir)\n",
    "    html_file = os.path.join(download_dir, html_file_name)\n",
    "\n",
    "    Map.to_html(outfile=html_file, title=title_html, width='100%', height='570px')\n",
    "    print(output)\n",
    "  except Exception as e:\n",
    "    print(e)\n",
    "    continue"
   ]
  }
 ],
 "metadata": {
  "interpreter": {
   "hash": "811ab489599c171fb6d0eaf76a606e9022cc89f8dbf213b9dc9043c9c727f5d4"
  },
  "kernelspec": {
   "display_name": "Python 3.8.8 ('geo')",
   "language": "python",
   "name": "python3"
  },
  "language_info": {
   "codemirror_mode": {
    "name": "ipython",
    "version": 3
   },
   "file_extension": ".py",
   "mimetype": "text/x-python",
   "name": "python",
   "nbconvert_exporter": "python",
   "pygments_lexer": "ipython3",
   "version": "3.8.8"
  },
  "orig_nbformat": 4
 },
 "nbformat": 4,
 "nbformat_minor": 2
}
