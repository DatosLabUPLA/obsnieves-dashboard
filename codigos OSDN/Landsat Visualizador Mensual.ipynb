{
 "cells": [
  {
   "cell_type": "code",
   "execution_count": 1,
   "metadata": {},
   "outputs": [],
   "source": [
    "import ee\n",
    "import geemap\n",
    "import os\n",
    "\n",
    "import datetime\n",
    "import calendar"
   ]
  },
  {
   "cell_type": "code",
   "execution_count": 2,
   "metadata": {},
   "outputs": [],
   "source": [
    "service_account = 'promedio-a--de-nieve-6bbfb64d1@ee-ezequiellagos.iam.gserviceaccount.com'\n",
    "credentials = ee.ServiceAccountCredentials(service_account, 'ee-ezequiellagos-0e8769baf6cb.json')\n",
    "ee.Initialize(credentials)"
   ]
  },
  {
   "cell_type": "code",
   "execution_count": 4,
   "metadata": {},
   "outputs": [
    {
     "name": "stdout",
     "output_type": "stream",
     "text": [
      "2022-04-25 15:46:19.679319: Landsat Mensual January 2021\n",
      "2022-04-25 15:46:23.518540: Landsat Mensual February 2021\n",
      "2022-04-25 15:46:26.697164: Landsat Mensual March 2021\n",
      "2022-04-25 15:46:29.465010: Landsat Mensual April 2021\n",
      "2022-04-25 15:46:32.835973: Landsat Mensual May 2021\n",
      "2022-04-25 15:46:35.943199: Landsat Mensual June 2021\n",
      "2022-04-25 15:46:38.920839: Landsat Mensual July 2021\n",
      "2022-04-25 15:46:41.772147: Landsat Mensual August 2021\n",
      "2022-04-25 15:46:44.506543: Landsat Mensual September 2021\n",
      "2022-04-25 15:46:47.456321: Landsat Mensual October 2021\n",
      "2022-04-25 15:46:50.478946: Landsat Mensual November 2021\n",
      "2022-04-25 15:46:53.562741: Landsat Mensual December 2021\n"
     ]
    }
   ],
   "source": [
    "now = datetime.datetime.now()\n",
    "\n",
    "for month in range(1,13):\n",
    "    current_time = datetime.datetime.now()\n",
    "\n",
    "    Map = geemap.Map(center=[-32.839,-70.8484], zoom=9)\n",
    "\n",
    "    snowmonthly = ee.Image('users/observatorionieves/Landsat/Snow_Monthly/' + str(month).zfill(2)).select('NDSI')\n",
    "    streamflow = ee.FeatureCollection(\"WWF/HydroSHEDS/v1/FreeFlowingRivers\").filter(ee.Filter.eq('BAS_ID', 3975615)).style(color= 'B2B2B3')\n",
    "    aconcagua_cuenca = ee.FeatureCollection(\"users/observatorionieves/DGA/aconcagua_cuenca\").style(color= '000', width=1, fillColor= '00000000')\n",
    "    subsubcuencas_ms = ee.FeatureCollection(\"users/observatorionieves/DGA/aconcagua_subsubcuencas_ms\").style(color= '000', width= 1, fillColor= '00000000')\n",
    "\n",
    "    colorizedVis = {\n",
    "    'min': 0,\n",
    "    'max': 100,\n",
    "    'palette': [ #Paleta obtenida de snowcloudmetrics  https://github.com/SnowCloudMetrics/Earth_Engine_Scripts/blob/master/SnowCloudMetrics_app_ui.txt\n",
    "                'ffffff', #  0 - 10 Blanco\n",
    "                'ffffd9', # 10 - 20 Blanco\n",
    "                'edf8b1', # 20 - 30 Azul              //'ffebbe'\n",
    "                'c7e9b4', # 30 - 40 Celeste\n",
    "                '7fcdbb', # 40 - 50 Celeste\n",
    "                '41b6c4', # 50 - 60 azul claro\n",
    "                '1d91c0', # 60 - 70 crema pálido     //21d291  //179164\n",
    "                '225ea8', # 70 - 80 celeste         //14dada\n",
    "                '253494', # 80 - 90 Azul\n",
    "                '081d58', # 90- 100 Azul\n",
    "    ],\n",
    "    }\n",
    "\n",
    "    Map.add_basemap('SATELLITE')\n",
    "    Map.addLayer(snowmonthly,colorizedVis,\"Nieve caída\") \n",
    "    Map.addLayer(streamflow,{},'Red hídrica') \n",
    "    Map.addLayer(aconcagua_cuenca,{},'Aconcagua cuenca')\n",
    "    Map.addLayer(subsubcuencas_ms,{},'Aconcagua subsubcuencas')\n",
    "    Map.add_colorbar(colorizedVis, label='Promedio de presencia de nieve (%)')#,orientation='vertical')\n",
    "\n",
    "    # Map\n",
    "\n",
    "    # Generar HTML\n",
    "    production = False\n",
    "    if production:\n",
    "        download_dir_base = 'web/media/maps/landsat/mensual'\n",
    "    else:\n",
    "        download_dir_base = 'Downloads/maps/landsat/mensual'\n",
    "    \n",
    "    html_file_name = calendar.month_name[month].lower() + '_' + str(now.year - 1) + '.html'\n",
    "    title_html = 'Landsat Mensual - '+ calendar.month_name[month] + ' - ' + str(now.year - 1)\n",
    "    output = f'{current_time}: Landsat Mensual {calendar.month_name[month]} {now.year - 1}'\n",
    "\n",
    "    download_dir = os.path.join(os.path.expanduser('~'), download_dir_base)\n",
    "    if not os.path.exists(download_dir):\n",
    "        os.makedirs(download_dir)\n",
    "    html_file = os.path.join(download_dir, html_file_name)\n",
    "\n",
    "    Map.to_html(outfile=html_file, title=title_html, width='100%', height='880px')\n",
    "    print(output)"
   ]
  }
 ],
 "metadata": {
  "interpreter": {
   "hash": "402c1ccfd131d8eef133abc97063dd0df0ccc9d667fd2ffe963518e290673b28"
  },
  "kernelspec": {
   "display_name": "Python 3.8.12 64-bit ('ee': conda)",
   "language": "python",
   "name": "python3"
  },
  "language_info": {
   "codemirror_mode": {
    "name": "ipython",
    "version": 3
   },
   "file_extension": ".py",
   "mimetype": "text/x-python",
   "name": "python",
   "nbconvert_exporter": "python",
   "pygments_lexer": "ipython3",
   "version": "3.8.8"
  },
  "orig_nbformat": 4
 },
 "nbformat": 4,
 "nbformat_minor": 2
}
