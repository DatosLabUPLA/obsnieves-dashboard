{
 "cells": [
  {
   "cell_type": "code",
   "execution_count": 6,
   "metadata": {},
   "outputs": [],
   "source": [
    "import ee\n",
    "import geemap\n",
    "import os\n",
    "\n",
    "import datetime\n",
    "import calendar"
   ]
  },
  {
   "cell_type": "code",
   "execution_count": 3,
   "metadata": {},
   "outputs": [],
   "source": [
    "service_account = 'promedio-a--de-nieve-6bbfb64d1@ee-ezequiellagos.iam.gserviceaccount.com'\n",
    "credentials = ee.ServiceAccountCredentials(service_account, 'ee-ezequiellagos-0e8769baf6cb.json')\n",
    "ee.Initialize(credentials)"
   ]
  },
  {
   "cell_type": "code",
   "execution_count": 8,
   "metadata": {},
   "outputs": [
    {
     "name": "stdout",
     "output_type": "stream",
     "text": [
      "2022-04-25 17:02:05.127528: MODIS Mensual January - aqua\n",
      "2022-04-25 17:02:08.465811: MODIS Mensual February - aqua\n",
      "2022-04-25 17:02:11.441463: MODIS Mensual March - aqua\n",
      "2022-04-25 17:02:14.184835: MODIS Mensual April - aqua\n",
      "2022-04-25 17:02:16.813860: MODIS Mensual May - aqua\n",
      "2022-04-25 17:02:20.071445: MODIS Mensual June - aqua\n",
      "2022-04-25 17:02:22.618702: MODIS Mensual July - aqua\n",
      "2022-04-25 17:02:25.571518: MODIS Mensual August - aqua\n",
      "2022-04-25 17:02:28.512825: MODIS Mensual September - aqua\n",
      "2022-04-25 17:02:31.953503: MODIS Mensual October - aqua\n",
      "2022-04-25 17:02:35.288223: MODIS Mensual November - aqua\n",
      "2022-04-25 17:02:39.330132: MODIS Mensual December - aqua\n"
     ]
    }
   ],
   "source": [
    "# Aqua\n",
    "\n",
    "for month in range(1,13):\n",
    "  current_time = datetime.datetime.now()\n",
    "\n",
    "  Map = geemap.Map(center=[-32.839,-70.8484], zoom=9)\n",
    "\n",
    "  MYD10A1_Snow_Monthly = ee.Image('users/observatorionieves/MODIS/MYD10A1_Snow_Monthly/' + str(month).zfill(2)).select('NDSI_Snow_Cover')\n",
    "  streamflow = ee.FeatureCollection(\"WWF/HydroSHEDS/v1/FreeFlowingRivers\").filter(ee.Filter.eq('BAS_ID', 3975615)).style(color= 'B2B2B3')\n",
    "  aconcagua_cuenca = ee.FeatureCollection(\"users/observatorionieves/DGA/aconcagua_cuenca\").style(color= '000000', width=1, fillColor= '00000000')\n",
    "  subsubcuencas_ms = ee.FeatureCollection(\"users/observatorionieves/DGA/aconcagua_subsubcuencas_ms\").style(color= '000000', width= 1, fillColor= '00000000')\n",
    "\n",
    "  colorizedVis = {\n",
    "    'min': 0,\n",
    "    'max': 100,\n",
    "    'palette': [ #Paleta obtenida de snowcloudmetrics  https://github.com/SnowCloudMetrics/Earth_Engine_Scripts/blob/master/SnowCloudMetrics_app_ui.txt\n",
    "              'ffffff', #  0 - 10 Blanco\n",
    "              'ffffd9', # 10 - 20 Blanco\n",
    "              'edf8b1', # 20 - 30 Azul              //'ffebbe'\n",
    "              'c7e9b4', # 30 - 40 Celeste\n",
    "              '7fcdbb', # 40 - 50 Celeste\n",
    "              '41b6c4', # 50 - 60 azul claro\n",
    "              '1d91c0', # 60 - 70 crema pálido     //21d291  //179164\n",
    "              '225ea8', # 70 - 80 celeste         //14dada\n",
    "              '253494', # 80 - 90 Azul\n",
    "              '081d58', # 90- 100 Azul\n",
    "  ],\n",
    "  }\n",
    "\n",
    "  Map.add_basemap('SATELLITE')\n",
    "  Map.addLayer(MYD10A1_Snow_Monthly,colorizedVis,\"Promedio anual del Indice Normalizado de Nieve (NDSI)\") \n",
    "  Map.addLayer(streamflow,{},'Red hídrica') \n",
    "  Map.addLayer(aconcagua_cuenca,{},'Aconcagua cuenca')\n",
    "  Map.addLayer(subsubcuencas_ms,{},'Aconcagua subsubcuencas')\n",
    "\n",
    "  # Map\n",
    "\n",
    "  # Generar HTML\n",
    "  production = False\n",
    "  if production:\n",
    "      download_dir_base = 'web/media/maps/modis/mensual/aqua'\n",
    "  else:\n",
    "      download_dir_base = 'Downloads/maps/modis/mensual/aqua'\n",
    "  \n",
    "  html_file_name = calendar.month_name[month].lower() + '.html'\n",
    "  title_html = 'MODIS Mensual - '+ calendar.month_name[month]\n",
    "  output = f'{current_time}: MODIS Mensual {calendar.month_name[month]} - aqua'\n",
    "\n",
    "  download_dir = os.path.join(os.path.expanduser('~'), download_dir_base)\n",
    "  if not os.path.exists(download_dir):\n",
    "      os.makedirs(download_dir)\n",
    "  html_file = os.path.join(download_dir, html_file_name)\n",
    "\n",
    "  Map.to_html(outfile=html_file, title=title_html, width='100%', height='880px')\n",
    "  print(output)\n",
    "\n"
   ]
  },
  {
   "cell_type": "code",
   "execution_count": 9,
   "metadata": {},
   "outputs": [
    {
     "name": "stdout",
     "output_type": "stream",
     "text": [
      "2022-04-25 17:02:42.793529: MODIS Mensual January - terra\n",
      "2022-04-25 17:02:45.674299: MODIS Mensual February - terra\n",
      "2022-04-25 17:02:48.722033: MODIS Mensual March - terra\n",
      "2022-04-25 17:02:52.368671: MODIS Mensual April - terra\n",
      "2022-04-25 17:02:55.775968: MODIS Mensual May - terra\n",
      "2022-04-25 17:02:59.141476: MODIS Mensual June - terra\n",
      "2022-04-25 17:03:02.603964: MODIS Mensual July - terra\n",
      "2022-04-25 17:03:05.880978: MODIS Mensual August - terra\n",
      "2022-04-25 17:03:09.658954: MODIS Mensual September - terra\n",
      "2022-04-25 17:03:13.136706: MODIS Mensual October - terra\n",
      "2022-04-25 17:03:16.949997: MODIS Mensual November - terra\n",
      "2022-04-25 17:03:20.552341: MODIS Mensual December - terra\n"
     ]
    }
   ],
   "source": [
    "# Terra\n",
    "\n",
    "for month in range(1,13):\n",
    "  current_time = datetime.datetime.now()\n",
    "\n",
    "  Map = geemap.Map(center=[-32.839,-70.8484], zoom=9)\n",
    "\n",
    "  MOD10A1_Snow_Monthly = ee.Image('users/observatorionieves/MODIS/MOD10A1_Snow_Monthly/' + str(month).zfill(2)).select('NDSI_Snow_Cover')\n",
    "  streamflow = ee.FeatureCollection(\"WWF/HydroSHEDS/v1/FreeFlowingRivers\").filter(ee.Filter.eq('BAS_ID', 3975615)).style(color= 'B2B2B3')\n",
    "  aconcagua_cuenca = ee.FeatureCollection(\"users/observatorionieves/DGA/aconcagua_cuenca\").style(color= '000000', width=1, fillColor= '00000000')\n",
    "  subsubcuencas_ms = ee.FeatureCollection(\"users/observatorionieves/DGA/aconcagua_subsubcuencas_ms\").style(color= '000000', width= 1, fillColor= '00000000')\n",
    "\n",
    "  colorizedVis = {\n",
    "    'min': 0,\n",
    "    'max': 100,\n",
    "    'palette': [ #Paleta obtenida de snowcloudmetrics  https://github.com/SnowCloudMetrics/Earth_Engine_Scripts/blob/master/SnowCloudMetrics_app_ui.txt\n",
    "              'ffffff', #  0 - 10 Blanco\n",
    "              'ffffd9', # 10 - 20 Blanco\n",
    "              'edf8b1', # 20 - 30 Azul              //'ffebbe'\n",
    "              'c7e9b4', # 30 - 40 Celeste\n",
    "              '7fcdbb', # 40 - 50 Celeste\n",
    "              '41b6c4', # 50 - 60 azul claro\n",
    "              '1d91c0', # 60 - 70 crema pálido     //21d291  //179164\n",
    "              '225ea8', # 70 - 80 celeste         //14dada\n",
    "              '253494', # 80 - 90 Azul\n",
    "              '081d58', # 90- 100 Azul\n",
    "  ],\n",
    "  }\n",
    "\n",
    "  Map.add_basemap('SATELLITE')\n",
    "  Map.addLayer(MOD10A1_Snow_Monthly,colorizedVis,\"Promedio anual del Indice Normalizado de Nieve (NDSI)\") \n",
    "  Map.addLayer(streamflow,{},'Red hídrica') \n",
    "  Map.addLayer(aconcagua_cuenca,{},'Aconcagua cuenca')\n",
    "  Map.addLayer(subsubcuencas_ms,{},'Aconcagua subsubcuencas')\n",
    "\n",
    "  # Map\n",
    "\n",
    "  # Generar HTML\n",
    "  production = False\n",
    "  if production:\n",
    "      download_dir_base = 'web/media/maps/modis/mensual/terra'\n",
    "  else:\n",
    "      download_dir_base = 'Downloads/maps/modis/mensual/terra'\n",
    "  \n",
    "  html_file_name = calendar.month_name[month].lower() + '.html'\n",
    "  title_html = 'MODIS Mensual - '+ calendar.month_name[month]\n",
    "  output = f'{current_time}: MODIS Mensual {calendar.month_name[month]} - terra'\n",
    "\n",
    "  download_dir = os.path.join(os.path.expanduser('~'), download_dir_base)\n",
    "  if not os.path.exists(download_dir):\n",
    "      os.makedirs(download_dir)\n",
    "  html_file = os.path.join(download_dir, html_file_name)\n",
    "\n",
    "  Map.to_html(outfile=html_file, title=title_html, width='100%', height='880px')\n",
    "  print(output)"
   ]
  }
 ],
 "metadata": {
  "interpreter": {
   "hash": "402c1ccfd131d8eef133abc97063dd0df0ccc9d667fd2ffe963518e290673b28"
  },
  "kernelspec": {
   "display_name": "Python 3.8.12 64-bit ('ee': conda)",
   "language": "python",
   "name": "python3"
  },
  "language_info": {
   "codemirror_mode": {
    "name": "ipython",
    "version": 3
   },
   "file_extension": ".py",
   "mimetype": "text/x-python",
   "name": "python",
   "nbconvert_exporter": "python",
   "pygments_lexer": "ipython3",
   "version": "3.8.8"
  },
  "orig_nbformat": 4
 },
 "nbformat": 4,
 "nbformat_minor": 2
}
