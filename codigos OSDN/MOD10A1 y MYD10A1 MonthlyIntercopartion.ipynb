{
 "cells": [
  {
   "cell_type": "code",
   "execution_count": 1,
   "metadata": {},
   "outputs": [],
   "source": [
    "import ee\n",
    "import geemap\n",
    "import os\n",
    "import datetime\n",
    "import calendar"
   ]
  },
  {
   "cell_type": "code",
   "execution_count": 2,
   "metadata": {},
   "outputs": [],
   "source": [
    "service_account = 'promedio-a--de-nieve-6bbfb64d1@ee-ezequiellagos.iam.gserviceaccount.com'\n",
    "credentials = ee.ServiceAccountCredentials(service_account, 'ee-ezequiellagos-0e8769baf6cb.json')\n",
    "ee.Initialize(credentials)"
   ]
  },
  {
   "cell_type": "code",
   "execution_count": 3,
   "metadata": {},
   "outputs": [
    {
     "name": "stdout",
     "output_type": "stream",
     "text": [
      "2022-05-17 15:10:04.743864: MODIS Mensual January - terra\n",
      "2022-05-17 15:10:07.921802: MODIS Mensual February - terra\n",
      "2022-05-17 15:10:11.076325: MODIS Mensual March - terra\n",
      "2022-05-17 15:10:13.930548: MODIS Mensual April - terra\n",
      "2022-05-17 15:10:17.428283: MODIS Mensual May - terra\n",
      "2022-05-17 15:10:21.277834: MODIS Mensual June - terra\n",
      "2022-05-17 15:10:24.336199: MODIS Mensual July - terra\n",
      "2022-05-17 15:10:27.561277: MODIS Mensual August - terra\n",
      "2022-05-17 15:10:30.613551: MODIS Mensual September - terra\n",
      "2022-05-17 15:10:33.962555: MODIS Mensual October - terra\n",
      "2022-05-17 15:10:37.499722: MODIS Mensual November - terra\n",
      "2022-05-17 15:10:41.169723: MODIS Mensual December - terra\n"
     ]
    }
   ],
   "source": [
    "# Terra\n",
    "for month in range(1, 13):\n",
    "  try:\n",
    "    current_time = datetime.datetime.now()\n",
    "    Map = geemap.Map(center=[-32.639,-70.8484], zoom=9)\n",
    "    Map.clear_controls()\n",
    "    streamflow = ee.FeatureCollection(\"WWF/HydroSHEDS/v1/FreeFlowingRivers\").filter(ee.Filter.eq('BAS_ID', 3975615)).style(color= 'B2B2B3')\n",
    "    aconcagua_cuenca = ee.FeatureCollection(\"users/observatorionieves/DGA/aconcagua_cuenca\")\n",
    "    subsubcuencas_ms = ee.FeatureCollection(\"users/observatorionieves/DGA/aconcagua_subsubcuencas_ms\").style(color= '000000', width= 1, fillColor= '00000000')\n",
    "    MOD10A1_Snow_Monthly = ee.Image('users/observatorionieves/MODIS/MOD10A1_Snow_Monthly/' + str(month).zfill(2)).select('NDSI_Snow_Cover').clip(aconcagua_cuenca)\n",
    "\n",
    "    palette_scf = ['#ffffff','#ffffd9','#edf8b1','#c7e9b4','#7fcdbb','#41b6c4','#1d91c0','#225ea8','#253494','#081d58']\n",
    "    colorizedVis = {\n",
    "      'min': 0.0,\n",
    "      'max': 100.0,\n",
    "      'palette': palette_scf,\n",
    "    }\n",
    "\n",
    "    Map.add_basemap('SATELLITE')\n",
    "    Map.addLayer(MOD10A1_Snow_Monthly,colorizedVis,\"Promedio anual del Indice Normalizado de Nieve (NDSI)\") \n",
    "    Map.addLayer(streamflow,{},'Red hídrica') \n",
    "    Map.addLayer(aconcagua_cuenca.style(color= '000000', width=1, fillColor= '00000000'),{},'Aconcagua cuenca')\n",
    "    Map.addLayer(subsubcuencas_ms,{},'Aconcagua subsubcuencas')\n",
    "    # Map\n",
    "\n",
    "    # Generar HTML\n",
    "    production = False\n",
    "    if production:\n",
    "        download_dir_base = 'web/media/maps/modis/mensual/terra'\n",
    "    else:\n",
    "        download_dir_base = 'Downloads/maps/modis/mensual/terra'\n",
    "    \n",
    "    html_file_name = calendar.month_name[month].lower() + '.html'\n",
    "    title_html = 'MODIS Terra Mensual - '+ calendar.month_name[month]\n",
    "    output = f'{current_time}: MODIS Mensual {calendar.month_name[month]} - terra'\n",
    "\n",
    "    download_dir = os.path.join(os.path.expanduser('~'), download_dir_base)\n",
    "    if not os.path.exists(download_dir):\n",
    "        os.makedirs(download_dir)\n",
    "    html_file = os.path.join(download_dir, html_file_name)\n",
    "\n",
    "    Map.to_html(outfile=html_file, title=title_html, width='100%', height='570px')\n",
    "    print(output)\n",
    "  except Exception as e:\n",
    "    print(e)\n",
    "    continue"
   ]
  },
  {
   "cell_type": "code",
   "execution_count": 4,
   "metadata": {},
   "outputs": [
    {
     "name": "stdout",
     "output_type": "stream",
     "text": [
      "2022-05-17 15:13:38.280056: MODIS Mensual January - aqua\n",
      "2022-05-17 15:13:41.221533: MODIS Mensual February - aqua\n",
      "2022-05-17 15:13:44.413531: MODIS Mensual March - aqua\n",
      "2022-05-17 15:13:54.708724: MODIS Mensual April - aqua\n",
      "2022-05-17 15:13:58.570279: MODIS Mensual May - aqua\n",
      "2022-05-17 15:14:02.516872: MODIS Mensual June - aqua\n",
      "2022-05-17 15:14:05.989873: MODIS Mensual July - aqua\n",
      "2022-05-17 15:14:09.294906: MODIS Mensual August - aqua\n",
      "2022-05-17 15:14:12.865002: MODIS Mensual September - aqua\n",
      "2022-05-17 15:14:15.991000: MODIS Mensual October - aqua\n",
      "2022-05-17 15:14:19.424999: MODIS Mensual November - aqua\n",
      "2022-05-17 15:14:22.918247: MODIS Mensual December - aqua\n"
     ]
    }
   ],
   "source": [
    "# Aqua\n",
    "for month in range(1, 13):\n",
    "  try:\n",
    "    current_time = datetime.datetime.now()\n",
    "\n",
    "    Map = geemap.Map(center=[-32.639,-70.8484], zoom=9)\n",
    "    Map.clear_controls()\n",
    "    MYD10A1_Snow_Monthly = ee.Image('users/observatorionieves/MODIS/MYD10A1_Snow_Monthly/' + str(month).zfill(2)).select('NDSI_Snow_Cover')\n",
    "    streamflow = ee.FeatureCollection(\"WWF/HydroSHEDS/v1/FreeFlowingRivers\").filter(ee.Filter.eq('BAS_ID', 3975615)).style(color= 'B2B2B3')\n",
    "    aconcagua_cuenca = ee.FeatureCollection(\"users/observatorionieves/DGA/aconcagua_cuenca\").style(color= '000000', width=1, fillColor= '00000000')\n",
    "    subsubcuencas_ms = ee.FeatureCollection(\"users/observatorionieves/DGA/aconcagua_subsubcuencas_ms\").style(color= '000000', width= 1, fillColor= '00000000')\n",
    "\n",
    "    palette_scf = ['#ffffff','#ffffd9','#edf8b1','#c7e9b4','#7fcdbb','#41b6c4','#1d91c0','#225ea8','#253494','#081d58']\n",
    "    colorizedVis = {\n",
    "      'min': 0.0,\n",
    "      'max': 100.0,\n",
    "      'palette': palette_scf,\n",
    "    }\n",
    "\n",
    "    Map.add_basemap('SATELLITE')\n",
    "    Map.addLayer(MYD10A1_Snow_Monthly,colorizedVis,\"Promedio anual del Indice Normalizado de Nieve (NDSI)\") \n",
    "    Map.addLayer(streamflow,{},'Red hídrica') \n",
    "    Map.addLayer(aconcagua_cuenca,{},'Aconcagua cuenca')\n",
    "    Map.addLayer(subsubcuencas_ms,{},'Aconcagua subsubcuencas')\n",
    "    # Map\n",
    "\n",
    "    # Generar HTML\n",
    "    production = False\n",
    "    if production:\n",
    "        download_dir_base = 'web/media/maps/modis/mensual/aqua'\n",
    "    else:\n",
    "        download_dir_base = 'Downloads/maps/modis/mensual/aqua'\n",
    "    \n",
    "    html_file_name = calendar.month_name[month].lower() + '.html'\n",
    "    title_html = 'MODIS Aqua Mensual - '+ calendar.month_name[month]\n",
    "    output = f'{current_time}: MODIS Mensual {calendar.month_name[month]} - aqua'\n",
    "\n",
    "    download_dir = os.path.join(os.path.expanduser('~'), download_dir_base)\n",
    "    if not os.path.exists(download_dir):\n",
    "        os.makedirs(download_dir)\n",
    "    html_file = os.path.join(download_dir, html_file_name)\n",
    "\n",
    "    Map.to_html(outfile=html_file, title=title_html, width='100%', height='570px')\n",
    "    print(output)\n",
    "  except Exception as e:\n",
    "    print(e)\n",
    "    continue\n",
    "\n"
   ]
  }
 ],
 "metadata": {
  "interpreter": {
   "hash": "811ab489599c171fb6d0eaf76a606e9022cc89f8dbf213b9dc9043c9c727f5d4"
  },
  "kernelspec": {
   "display_name": "Python 3.8.8 ('geo')",
   "language": "python",
   "name": "python3"
  },
  "language_info": {
   "codemirror_mode": {
    "name": "ipython",
    "version": 3
   },
   "file_extension": ".py",
   "mimetype": "text/x-python",
   "name": "python",
   "nbconvert_exporter": "python",
   "pygments_lexer": "ipython3",
   "version": "3.8.8"
  },
  "orig_nbformat": 4
 },
 "nbformat": 4,
 "nbformat_minor": 2
}
