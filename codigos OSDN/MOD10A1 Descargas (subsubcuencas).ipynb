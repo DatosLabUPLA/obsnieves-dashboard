{
 "cells": [
  {
   "cell_type": "code",
   "execution_count": 16,
   "metadata": {},
   "outputs": [],
   "source": [
    "import ee\n",
    "import geemap\n",
    "import os\n",
    "import datetime\n",
    "import gc\n",
    "\n",
    "from slugify import slugify"
   ]
  },
  {
   "cell_type": "code",
   "execution_count": 17,
   "metadata": {},
   "outputs": [],
   "source": [
    "service_account = 'promedio-a--de-nieve-6bbfb64d1@ee-ezequiellagos.iam.gserviceaccount.com'\n",
    "credentials = ee.ServiceAccountCredentials(service_account, 'ee-ezequiellagos-0e8769baf6cb.json')\n",
    "ee.Initialize(credentials)"
   ]
  },
  {
   "cell_type": "code",
   "execution_count": 20,
   "metadata": {},
   "outputs": [
    {
     "name": "stdout",
     "output_type": "stream",
     "text": [
      "2022-05-17 18:05:58.656170: MODIS Terra Subsubcuenca General\n"
     ]
    }
   ],
   "source": [
    "# Modis Terra Subsubcuencas General\n",
    "\n",
    "try:\n",
    "  current_time = datetime.datetime.now()\n",
    "\n",
    "  Map = geemap.Map(center=[-32.839,-70.4381], zoom=9)\n",
    "  Map.clear_controls()\n",
    "\n",
    "  MODcollection  = ee.Image('MODIS/006/MOD10A1').select(['NDSI_Snow_Cover'],['Snow_Albedo_Daily_Tile_Class'])#.filterDate('2000-01-01', '2020-12-31')\n",
    "  MODIS_yearly  = ee.ImageCollection('users/observatorionieves/MODIS/MOD10A1_Snow_Yearly')\n",
    "  streamflow = ee.FeatureCollection(\"WWF/HydroSHEDS/v1/FreeFlowingRivers\").filter(ee.Filter.eq('BAS_ID', 3975615)).style(color= 'B2B2B3')\n",
    "  aconcagua_cuenca = ee.FeatureCollection(\"users/observatorionieves/DGA/aconcagua_cuenca\").style(color= '#FF0000', width=1, fillColor= '00000000')\n",
    "  aconcagua_ms = ee.FeatureCollection(\"users/observatorionieves/DGA/aconcagua_subsubcuencas_ms\")\n",
    "  NDSImean = MODIS_yearly.mean().clip(aconcagua_ms)\n",
    "\n",
    "  colorizedVis = {\n",
    "    'min': 0.0,\n",
    "    'max': 100.0,\n",
    "    'palette': ['#ffffff','#ffffd9','#edf8b1','#c7e9b4','#7fcdbb','#41b6c4','#1d91c0','#225ea8','#253494','#081d58']\n",
    "  }\n",
    "\n",
    "  Map.add_basemap('SATELLITE')\n",
    "  Map.addLayer(NDSImean,colorizedVis,'NDSI promedio') \n",
    "  Map.addLayer(streamflow,{},'Red hídrica') \n",
    "  Map.addLayer(aconcagua_cuenca,{},'Cuenca Río Aconcagua')\n",
    "  Map.addLayer(aconcagua_ms.style(fillColor= '00000000',color= '#000000', width= 1),{},'Selección media-superior cuenca del Río Aconcagua')\n",
    "\n",
    "  # Map\n",
    "\n",
    "  # Generar HTML\n",
    "  production = False\n",
    "  if production:\n",
    "      download_dir_base = 'web/media/maps/modis/doy/subsubcuencas/terra'\n",
    "  else:\n",
    "      download_dir_base = 'Downloads/maps/modis/doy/subsubcuencas/terra'\n",
    "  \n",
    "  html_file_name = 'subsubcuencas_general.html'\n",
    "  title_html = 'MODIS Terra Subsubcuenca General '\n",
    "  output = f\"{current_time}: MODIS Terra Subsubcuenca General\"\n",
    "\n",
    "  download_dir = os.path.join(os.path.expanduser('~'), download_dir_base)\n",
    "  if not os.path.exists(download_dir):\n",
    "      os.makedirs(download_dir)\n",
    "  html_file = os.path.join(download_dir, html_file_name)\n",
    "\n",
    "  Map.to_html(outfile=html_file, title=title_html, width='100%', height='570px')\n",
    "  print(output)\n",
    "except Exception as e:\n",
    "  print(e)\n"
   ]
  },
  {
   "cell_type": "code",
   "execution_count": null,
   "metadata": {},
   "outputs": [],
   "source": [
    "# Calculo de días a generar\n",
    "days_delta = 4\n",
    "date_start_str = '2000_02_24'\n",
    "\n",
    "date_start = datetime.datetime.strptime(date_start_str, '%Y_%m_%d')\n",
    "date_now = datetime.datetime.now() - datetime.timedelta(days=days_delta)\n",
    "days_amount =  (date_now - date_start).days\n",
    "\n",
    "# Lista de fechas\n",
    "list_of_days = []\n",
    "for i in range(days_amount + 1):\n",
    "    date_now = date_start + datetime.timedelta(days=i)\n",
    "    date_now_str = date_now.strftime('%Y_%m_%d')\n",
    "    list_of_days.append(date_now_str)\n",
    "list_of_days.reverse()"
   ]
  },
  {
   "cell_type": "code",
   "execution_count": 19,
   "metadata": {},
   "outputs": [
    {
     "name": "stdout",
     "output_type": "stream",
     "text": [
      "2022-05-17 17:58:51.973340: MODIS Terra DOY Subsubcuenca - Río Juncal - 2022_05_13\n",
      "2022-05-17 17:58:56.408341: MODIS Terra DOY Subsubcuenca - Rio Juncal y Junta Río Blanco - 2022_05_13\n",
      "2022-05-17 17:58:59.550344: MODIS Terra DOY Subsubcuenca - Río Blanco - 2022_05_13\n",
      "2022-05-17 17:59:02.566341: MODIS Terra DOY Subsubcuenca - Río Aconcagua entre Río Blanco y Río Colorado - 2022_05_13\n",
      "2022-05-17 17:59:05.758341: MODIS Terra DOY Subsubcuenca - Río Colorado - 2022_05_13\n",
      "2022-05-17 17:59:09.193341: MODIS Terra DOY Subsubcuenca - Estero Riecillos - 2022_05_13\n",
      "2022-05-17 17:59:13.429341: MODIS Terra DOY Subsubcuenca - Río Colorado Entre Estero Riecillos y Río Aconcagua - 2022_05_13\n",
      "2022-05-17 17:59:17.206573: MODIS Terra DOY Subsubcuenca - Río Aconcagua entre Río Colorado y Río Putaendo - 2022_05_13\n",
      "2022-05-17 17:59:21.151097: MODIS Terra DOY Subsubcuenca - Estero Pocuro - 2022_05_13\n",
      "2022-05-17 17:59:25.721221: MODIS Terra DOY Subsubcuenca - Río Putaendo bajo junta Río Hidalgo - 2022_05_13\n",
      "2022-05-17 17:59:30.112222: MODIS Terra DOY Subsubcuenca - Río Putaendo Entre Río Hidalgo y Bajo Junta Estero Chalaco - 2022_05_13\n",
      "2022-05-17 17:59:34.121323: MODIS Terra DOY Subsubcuenca - Río Putaendo Entre Estero Chalaco y Río Aconcagua - 2022_05_13\n",
      "2022-05-17 17:59:37.803953: MODIS Terra DOY Subsubcuenca - Estero Quilpué - 2022_05_13\n",
      "2022-05-17 17:59:41.508953: MODIS Terra DOY Subsubcuenca - Estero Seco - 2022_05_13\n"
     ]
    }
   ],
   "source": [
    "# Modis Terra Subsubcuencas\n",
    "days_delta = 4\n",
    "date = datetime.datetime.now() - datetime.timedelta(days=days_delta)\n",
    "date = date.strftime('%Y_%m_%d')\n",
    "\n",
    "subsubcuencas = [\n",
    "  {'id': '05400', 'name': 'Río Juncal', 'center_coordinates': [-32.939,-69.9781], 'zoom': 11, 'description': 'Rio Juncal antes junta Estero Juncalillo'},\n",
    "  {'id': '05401', 'name': 'Rio Juncal y Junta Río Blanco', 'center_coordinates': [-32.839,-70.111], 'zoom': 11, 'description': 'Rio Juncal Antes Junta Estero Juncalillo y Junta Río Blanco'},\n",
    "  {'id': '05402', 'name': 'Río Blanco', 'center_coordinates': [-33.060,-70.1481], 'zoom': 11, 'description': 'Río Blanco'},\n",
    "  {'id': '05403', 'name': 'Río Aconcagua entre Río Blanco y Río Colorado', 'center_coordinates': [-32.999,-70.2789], 'zoom': 11, 'description': 'Río Aconcagua entre Río Blanco y Río Colorado'},\n",
    "  {'id': '05404', 'name': 'Río Colorado', 'center_coordinates': [-32.599,-70.1589], 'zoom': 11, 'description': 'Río Colorado antes junta Estero Riecillos'},\n",
    "  {'id': '05405', 'name': 'Estero Riecillos', 'center_coordinates': [-32.699,-70.1589], 'zoom': 11, 'description': 'Estero Riecillos'},\n",
    "  {'id': '05406', 'name': 'Río Colorado Entre Estero Riecillos y Río Aconcagua', 'center_coordinates': [-32.799,-70.1589], 'zoom': 11, 'description': 'Río Colorado Entre Estero Riecillos y Río Aconcagua'},\n",
    "  {'id': '05410', 'name': 'Río Aconcagua entre Río Colorado y Río Putaendo', 'center_coordinates': [-32.839,-70.4381], 'zoom': 11, 'description': 'Río Aconcagua entre Río Colorado y Río Putaendo'},\n",
    "  {'id': '05411', 'name': 'Estero Pocuro', 'center_coordinates': [-32.919,-70.4381], 'zoom': 11, 'description': 'Estero Pocuro'},\n",
    "  {'id': '05412', 'name': 'Río Putaendo bajo junta Río Hidalgo', 'center_coordinates': [-32.379,-70.2589], 'zoom': 11, 'description': 'Río Putaendo bajo junta Río Hidalgo'},\n",
    "  {'id': '05413', 'name': 'Río Putaendo Entre Río Hidalgo y Bajo Junta Estero Chalaco', 'center_coordinates': [-32.439,-70.4381], 'zoom': 11, 'description': 'Río Putaendo Entre Río Hidalgo y Bajo Junta Estero Chalaco'},\n",
    "  {'id': '05414', 'name': 'Río Putaendo Entre Estero Chalaco y Río Aconcagua', 'center_coordinates': [-32.5739,-70.6381], 'zoom': 11, 'description': 'Río Putaendo Entre Estero Chalaco y Río Aconcagua'},\n",
    "  {'id': '05415', 'name': 'Estero Quilpué', 'center_coordinates': [-32.659,-70.4381], 'zoom': 11, 'description': 'Estero Quilpué'},\n",
    "  {'id': '05416', 'name': 'Estero Seco', 'center_coordinates': [-32.639,-70.7381], 'zoom': 11, 'description': 'Estero Seco'},\n",
    "]\n",
    "\n",
    "for subsubcuenca in subsubcuencas:\n",
    "  try:\n",
    "    current_time = datetime.datetime.now()\n",
    "    \n",
    "    Map = geemap.Map(center=subsubcuenca['center_coordinates'], zoom=subsubcuenca['zoom'])\n",
    "    Map.clear_controls()\n",
    "    streamflow = ee.FeatureCollection(\"WWF/HydroSHEDS/v1/FreeFlowingRivers\").filter(ee.Filter.eq('BAS_ID', 3975615)).style(color= 'B2B2B3')\n",
    "    aconcagua_cuenca = ee.FeatureCollection(\"users/observatorionieves/DGA/aconcagua_cuenca\").style(color= '#FF0000', width=1, fillColor= '00000000')\n",
    "    aconcagua_ms = ee.FeatureCollection(\"users/observatorionieves/DGA/aconcagua_subsubcuencas_ms\").filter(ee.Filter.eq('COD_SSUBC', subsubcuenca['id']))\n",
    "    NDSImean  = MODIS_yearly.mean().clip(aconcagua_ms)\n",
    "\n",
    "    colorizedVis = {\n",
    "      'min': 0.0,\n",
    "      'max': 100.0,\n",
    "      'palette': ['#ffffff','#ffffd9','#edf8b1','#c7e9b4','#7fcdbb','#41b6c4','#1d91c0','#225ea8','#253494','#081d58']\n",
    "    }\n",
    "\n",
    "    Map.add_basemap('SATELLITE')\n",
    "    Map.addLayer(NDSImean,colorizedVis,'NDSI promedio') \n",
    "    Map.addLayer(streamflow,{},'Red hídrica') \n",
    "    Map.addLayer(aconcagua_cuenca,{},'Cuenca Río Aconcagua')\n",
    "    Map.addLayer(aconcagua_ms.style(fillColor= '00000000',color= '#000000', width= 1),{},'Subsubcuenca cuenca del Río Aconcagua')\n",
    "    # Map\n",
    "\n",
    "    # Generar HTML\n",
    "    production = False\n",
    "    if production:\n",
    "        download_dir_base = 'web/media/maps/modis/doy/subsubcuencas/terra'\n",
    "    else:\n",
    "        download_dir_base = 'Downloads/maps/modis/doy/subsubcuencas/terra'\n",
    "    \n",
    "    html_file_name = slugify(subsubcuenca['name'], separator='_') + '_' + date +'.html'\n",
    "    title_html = 'MODIS Terra DOY Subsubcuenca - ' + subsubcuenca['name'] + ' - ' + date\n",
    "    output = f\"{current_time}: MODIS Terra DOY Subsubcuenca - {subsubcuenca['name']} - {date}\"\n",
    "\n",
    "    download_dir = os.path.join(os.path.expanduser('~'), download_dir_base)\n",
    "    if not os.path.exists(download_dir):\n",
    "        os.makedirs(download_dir)\n",
    "    html_file = os.path.join(download_dir, html_file_name)\n",
    "\n",
    "    Map.to_html(outfile=html_file, title=title_html, width='100%', height='570px')\n",
    "    print(output)\n",
    "  except Exception as e:\n",
    "    print(e)\n",
    "    continue"
   ]
  }
 ],
 "metadata": {
  "interpreter": {
   "hash": "811ab489599c171fb6d0eaf76a606e9022cc89f8dbf213b9dc9043c9c727f5d4"
  },
  "kernelspec": {
   "display_name": "Python 3.8.8 ('geo')",
   "language": "python",
   "name": "python3"
  },
  "language_info": {
   "codemirror_mode": {
    "name": "ipython",
    "version": 3
   },
   "file_extension": ".py",
   "mimetype": "text/x-python",
   "name": "python",
   "nbconvert_exporter": "python",
   "pygments_lexer": "ipython3",
   "version": "3.8.8"
  },
  "orig_nbformat": 4
 },
 "nbformat": 4,
 "nbformat_minor": 2
}
