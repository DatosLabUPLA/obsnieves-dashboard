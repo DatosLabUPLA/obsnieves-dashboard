{
 "cells": [
  {
   "cell_type": "code",
   "execution_count": 1,
   "metadata": {},
   "outputs": [],
   "source": [
    "import ee\n",
    "import geemap\n",
    "import os"
   ]
  },
  {
   "cell_type": "code",
   "execution_count": 2,
   "metadata": {},
   "outputs": [],
   "source": [
    "service_account = 'promedio-a--de-nieve-6bbfb64d1@ee-ezequiellagos.iam.gserviceaccount.com'\n",
    "credentials = ee.ServiceAccountCredentials(service_account, 'ee-ezequiellagos-0e8769baf6cb.json')\n",
    "ee.Initialize(credentials)"
   ]
  },
  {
   "cell_type": "code",
   "execution_count": 4,
   "metadata": {},
   "outputs": [
    {
     "data": {
      "application/vnd.jupyter.widget-view+json": {
       "model_id": "66c3b88d82cf4d5cbef6822ef28bb0c2",
       "version_major": 2,
       "version_minor": 0
      },
      "text/plain": [
       "Map(center=[-32.839, -70.4381], controls=(WidgetControl(options=['position', 'transparent_bg'], widget=HBox(ch…"
      ]
     },
     "metadata": {},
     "output_type": "display_data"
    }
   ],
   "source": [
    "Map = geemap.Map(center=[-32.839,-70.4381], zoom=9)\n",
    "\n",
    "MODcollection  = ee.Image('MODIS/006/MOD10A1').select(['NDSI_Snow_Cover'],['Snow_Albedo_Daily_Tile_Class'])#.filterDate('2000-01-01', '2020-12-31')\n",
    "MODIS_yearly  = ee.ImageCollection('users/observatorionieves/MODIS/MOD10A1_Snow_Yearly')\n",
    "streamflow = ee.FeatureCollection(\"WWF/HydroSHEDS/v1/FreeFlowingRivers\").filter(ee.Filter.eq('BAS_ID', 3975615)).style(color= 'B2B2B3')\n",
    "aconcagua_cuenca = ee.FeatureCollection(\"users/observatorionieves/DGA/aconcagua_cuenca\").style(color= '#FF0000', width=1, fillColor= '00000000')\n",
    "aconcagua_ms = ee.FeatureCollection(\"users/observatorionieves/DGA/aconcagua_subsubcuencas_ms\")\n",
    "NDSImean = MODIS_yearly.mean().clip(aconcagua_ms)\n",
    "\n",
    "colorizedVis = {\n",
    "  'min': 0.0,\n",
    "  'max': 100.0,\n",
    "  'palette': ['#ffffff','#ffffd9','#edf8b1','#c7e9b4','#7fcdbb','#41b6c4','#1d91c0','#225ea8','#253494','#081d58']\n",
    "}\n",
    "\n",
    "Map.add_basemap('SATELLITE')\n",
    "Map.addLayer(NDSImean,colorizedVis,'NDSI promedio') \n",
    "Map.addLayer(streamflow,{},'Red hídrica') \n",
    "Map.addLayer(aconcagua_cuenca,{},'Cuenca Río Aconcagua')\n",
    "Map.addLayer(aconcagua_ms.style(fillColor= '00000000',color= '#000000', width= 1),{},'Selección media-superior cuenca del Río Aconcagua')\n",
    "\n",
    "Map"
   ]
  },
  {
   "cell_type": "code",
   "execution_count": null,
   "metadata": {},
   "outputs": [],
   "source": [
    "download_dir = os.path.join(os.path.expanduser('~'), 'Downloads')\n",
    "if not os.path.exists(download_dir):\n",
    "    os.makedirs(download_dir)\n",
    "html_file = os.path.join(download_dir, 'test.html')"
   ]
  },
  {
   "cell_type": "code",
   "execution_count": null,
   "metadata": {},
   "outputs": [],
   "source": [
    "Map.to_html(outfile=html_file, title='test', width='100%', height='880px')"
   ]
  }
 ],
 "metadata": {
  "interpreter": {
   "hash": "402c1ccfd131d8eef133abc97063dd0df0ccc9d667fd2ffe963518e290673b28"
  },
  "kernelspec": {
   "display_name": "Python 3.8.12 ('ee')",
   "language": "python",
   "name": "python3"
  },
  "language_info": {
   "codemirror_mode": {
    "name": "ipython",
    "version": 3
   },
   "file_extension": ".py",
   "mimetype": "text/x-python",
   "name": "python",
   "nbconvert_exporter": "python",
   "pygments_lexer": "ipython3",
   "version": "3.8.12"
  },
  "orig_nbformat": 4
 },
 "nbformat": 4,
 "nbformat_minor": 2
}
