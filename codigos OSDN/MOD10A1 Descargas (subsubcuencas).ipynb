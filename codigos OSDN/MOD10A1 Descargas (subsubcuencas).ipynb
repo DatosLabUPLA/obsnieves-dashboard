{
 "cells": [
  {
   "cell_type": "code",
   "execution_count": 1,
   "metadata": {},
   "outputs": [],
   "source": [
    "import ee\n",
    "import geemap\n",
    "import os"
   ]
  },
  {
   "cell_type": "code",
   "execution_count": 2,
   "metadata": {},
   "outputs": [],
   "source": [
    "service_account = 'promedio-a--de-nieve-6bbfb64d1@ee-ezequiellagos.iam.gserviceaccount.com'\n",
    "credentials = ee.ServiceAccountCredentials(service_account, 'ee-ezequiellagos-0e8769baf6cb.json')\n",
    "ee.Initialize(credentials)"
   ]
  },
  {
   "cell_type": "code",
   "execution_count": 3,
   "metadata": {},
   "outputs": [
    {
     "data": {
      "application/vnd.jupyter.widget-view+json": {
       "model_id": "5ecce543a5744526b529e43c94987169",
       "version_major": 2,
       "version_minor": 0
      },
      "text/plain": [
       "Map(center=[-32.839, -70.4381], controls=(WidgetControl(options=['position', 'transparent_bg'], widget=HBox(ch…"
      ]
     },
     "metadata": {},
     "output_type": "display_data"
    }
   ],
   "source": [
    "Map = geemap.Map(center=[-32.839,-70.4381], zoom=9)\n",
    "\n",
    "MODcollection  = ee.Image('MODIS/006/MOD10A1').select(['NDSI_Snow_Cover'],['Snow_Albedo_Daily_Tile_Class'])#.filterDate('2000-01-01', '2020-12-31')\n",
    "MODIS_yearly  = ee.ImageCollection('users/observatorionieves/MODIS/MOD10A1_Snow_Yearly')\n",
    "streamflow = ee.FeatureCollection(\"WWF/HydroSHEDS/v1/FreeFlowingRivers\").filter(ee.Filter.eq('BAS_ID', 3975615)).style(color= 'B2B2B3')\n",
    "aconcagua_cuenca = ee.FeatureCollection(\"users/observatorionieves/DGA/aconcagua_cuenca\").style(color= '#FF0000', width=1, fillColor= '00000000')\n",
    "aconcagua_ms = ee.FeatureCollection(\"users/observatorionieves/DGA/aconcagua_subsubcuencas_ms\")\n",
    "NDSImean = MODIS_yearly.mean().clip(aconcagua_ms)\n",
    "\n",
    "colorizedVis = {\n",
    "  'min': 0.0,\n",
    "  'max': 100.0,\n",
    "  'palette': ['#ffffff','#ffffd9','#edf8b1','#c7e9b4','#7fcdbb','#41b6c4','#1d91c0','#225ea8','#253494','#081d58']\n",
    "}\n",
    "\n",
    "Map.add_basemap('SATELLITE')\n",
    "Map.addLayer(NDSImean,colorizedVis,'NDSI promedio') \n",
    "Map.addLayer(streamflow,{},'Red hídrica') \n",
    "Map.addLayer(aconcagua_cuenca,{},'Cuenca Río Aconcagua')\n",
    "Map.addLayer(aconcagua_ms.style(fillColor= '00000000',color= '#000000', width= 1),{},'Selección media-superior cuenca del Río Aconcagua')\n",
    "\n",
    "Map"
   ]
  },
  {
   "cell_type": "code",
   "execution_count": 24,
   "metadata": {},
   "outputs": [
    {
     "data": {
      "application/vnd.jupyter.widget-view+json": {
       "model_id": "031db4fbfc244d539d5e036352586e77",
       "version_major": 2,
       "version_minor": 0
      },
      "text/plain": [
       "Map(center=[-32.939, -69.9781], controls=(WidgetControl(options=['position', 'transparent_bg'], widget=HBox(ch…"
      ]
     },
     "metadata": {},
     "output_type": "display_data"
    }
   ],
   "source": [
    "#05400, Rio Juncal antes junta Estero Juncalillo\n",
    "Map = geemap.Map(center=[-32.939,-69.9781], zoom=11)\n",
    "streamflow = ee.FeatureCollection(\"WWF/HydroSHEDS/v1/FreeFlowingRivers\").filter(ee.Filter.eq('BAS_ID', 3975615)).style(color= 'B2B2B3')\n",
    "aconcagua_cuenca = ee.FeatureCollection(\"users/observatorionieves/DGA/aconcagua_cuenca\").style(color= '#FF0000', width=1, fillColor= '00000000')\n",
    "aconcagua_ms = ee.FeatureCollection(\"users/observatorionieves/DGA/aconcagua_subsubcuencas_ms\").filter(ee.Filter.eq('COD_SSUBC', '05400'))\n",
    "MODcollection  = ee.Image('MODIS/006/MOD10A1/2022_02_10').select(['NDSI_Snow_Cover'],['Snow_Albedo_Daily_Tile_Class']).clip(aconcagua_ms)\n",
    "\n",
    "colorizedVis = {\n",
    "  'min': 0.0,\n",
    "  'max': 100.0,\n",
    "  'palette': ['#ffffff','#ffffd9','#edf8b1','#c7e9b4','#7fcdbb','#41b6c4','#1d91c0','#225ea8','#253494','#081d58']\n",
    "}\n",
    "\n",
    "Map.add_basemap('SATELLITE')\n",
    "Map.addLayer(MODcollection,colorizedVis,'NDSI promedio') \n",
    "Map.addLayer(streamflow,{},'Red hídrica') \n",
    "Map.addLayer(aconcagua_cuenca,{},'Cuenca Río Aconcagua')\n",
    "Map.addLayer(aconcagua_ms.style(fillColor= '00000000',color= '#000000', width= 1),{},'Subsubcuenca cuenca del Río Aconcagua')\n",
    "Map"
   ]
  },
  {
   "cell_type": "code",
   "execution_count": 34,
   "metadata": {},
   "outputs": [
    {
     "data": {
      "application/vnd.jupyter.widget-view+json": {
       "model_id": "dedf57aaae794a19baf0ff129774bb8d",
       "version_major": 2,
       "version_minor": 0
      },
      "text/plain": [
       "Map(center=[-32.839, -70.111], controls=(WidgetControl(options=['position', 'transparent_bg'], widget=HBox(chi…"
      ]
     },
     "metadata": {},
     "output_type": "display_data"
    }
   ],
   "source": [
    "#05401, Rio Juncal Antes Junta Estero Juncalillo y Junta Rio Blanco\n",
    "Map = geemap.Map(center=[-32.839,-70.111], zoom=11)\n",
    "streamflow = ee.FeatureCollection(\"WWF/HydroSHEDS/v1/FreeFlowingRivers\").filter(ee.Filter.eq('BAS_ID', 3975615)).style(color= 'B2B2B3')\n",
    "aconcagua_cuenca = ee.FeatureCollection(\"users/observatorionieves/DGA/aconcagua_cuenca\").style(color= '#FF0000', width=1, fillColor= '00000000')\n",
    "aconcagua_ms = ee.FeatureCollection(\"users/observatorionieves/DGA/aconcagua_subsubcuencas_ms\").filter(ee.Filter.eq('COD_SSUBC', '05401'))\n",
    "MODcollection  = ee.Image('MODIS/006/MOD10A1/2022_02_10').select(['NDSI_Snow_Cover'],['Snow_Albedo_Daily_Tile_Class']).clip(aconcagua_ms)\n",
    "\n",
    "colorizedVis = {\n",
    "  'min': 0.0,\n",
    "  'max': 100.0,\n",
    "  'palette': ['#ffffff','#ffffd9','#edf8b1','#c7e9b4','#7fcdbb','#41b6c4','#1d91c0','#225ea8','#253494','#081d58']\n",
    "}\n",
    "\n",
    "Map.add_basemap('SATELLITE')\n",
    "Map.addLayer(MODcollection,colorizedVis,'NDSI promedio') \n",
    "Map.addLayer(streamflow,{},'Red hídrica') \n",
    "Map.addLayer(aconcagua_cuenca,{},'Cuenca Río Aconcagua')\n",
    "Map.addLayer(aconcagua_ms.style(fillColor= '00000000',color= '#000000', width= 1),{},'Subsubcuenca cuenca del Río Aconcagua')\n",
    "Map"
   ]
  },
  {
   "cell_type": "code",
   "execution_count": 119,
   "metadata": {},
   "outputs": [
    {
     "data": {
      "application/vnd.jupyter.widget-view+json": {
       "model_id": "c8d0f52dfe3b4c439515189e6dc191e6",
       "version_major": 2,
       "version_minor": 0
      },
      "text/plain": [
       "Map(center=[-33.06, -70.1481], controls=(WidgetControl(options=['position', 'transparent_bg'], widget=HBox(chi…"
      ]
     },
     "metadata": {},
     "output_type": "display_data"
    }
   ],
   "source": [
    "#05402, Rio Blanco\n",
    "Map = geemap.Map(center=[-33.060,-70.1481], zoom=11)\n",
    "streamflow = ee.FeatureCollection(\"WWF/HydroSHEDS/v1/FreeFlowingRivers\").filter(ee.Filter.eq('BAS_ID', 3975615)).style(color= 'B2B2B3')\n",
    "aconcagua_cuenca = ee.FeatureCollection(\"users/observatorionieves/DGA/aconcagua_cuenca\").style(color= '#FF0000', width=1, fillColor= '00000000')\n",
    "aconcagua_ms = ee.FeatureCollection(\"users/observatorionieves/DGA/aconcagua_subsubcuencas_ms\").filter(ee.Filter.eq('COD_SSUBC', '05402'))\n",
    "MODcollection  = ee.Image('MODIS/006/MOD10A1/2022_02_10').select(['NDSI_Snow_Cover'],['Snow_Albedo_Daily_Tile_Class']).clip(aconcagua_ms)\n",
    "\n",
    "colorizedVis = {\n",
    "  'min': 0.0,\n",
    "  'max': 100.0,\n",
    "  'palette': ['#ffffff','#ffffd9','#edf8b1','#c7e9b4','#7fcdbb','#41b6c4','#1d91c0','#225ea8','#253494','#081d58']\n",
    "}\n",
    "\n",
    "Map.add_basemap('SATELLITE')\n",
    "Map.addLayer(MODcollection,colorizedVis,'NDSI promedio') \n",
    "Map.addLayer(streamflow,{},'Red hídrica') \n",
    "Map.addLayer(aconcagua_cuenca,{},'Cuenca Río Aconcagua')\n",
    "Map.addLayer(aconcagua_ms.style(fillColor= '00000000',color= '#000000', width= 1),{},'Subsubcuenca cuenca del Río Aconcagua')\n",
    "Map"
   ]
  },
  {
   "cell_type": "code",
   "execution_count": 114,
   "metadata": {},
   "outputs": [
    {
     "data": {
      "application/vnd.jupyter.widget-view+json": {
       "model_id": "321edfb762db433ca9568d10fd0e7d83",
       "version_major": 2,
       "version_minor": 0
      },
      "text/plain": [
       "Map(center=[-32.999, -70.2789], controls=(WidgetControl(options=['position', 'transparent_bg'], widget=HBox(ch…"
      ]
     },
     "metadata": {},
     "output_type": "display_data"
    }
   ],
   "source": [
    "#05403, Rio Aconcagua entre Rio Blanco y Rio Colorado\n",
    "Map = geemap.Map(center=[-32.999,-70.2789], zoom=11)\n",
    "streamflow = ee.FeatureCollection(\"WWF/HydroSHEDS/v1/FreeFlowingRivers\").filter(ee.Filter.eq('BAS_ID', 3975615)).style(color= 'B2B2B3')\n",
    "aconcagua_cuenca = ee.FeatureCollection(\"users/observatorionieves/DGA/aconcagua_cuenca\").style(color= '#FF0000', width=1, fillColor= '00000000')\n",
    "aconcagua_ms = ee.FeatureCollection(\"users/observatorionieves/DGA/aconcagua_subsubcuencas_ms\").filter(ee.Filter.eq('COD_SSUBC', '05403'))\n",
    "MODcollection  = ee.Image('MODIS/006/MOD10A1/2022_02_10').select(['NDSI_Snow_Cover'],['Snow_Albedo_Daily_Tile_Class']).clip(aconcagua_ms)\n",
    "\n",
    "colorizedVis = {\n",
    "  'min': 0.0,\n",
    "  'max': 100.0,\n",
    "  'palette': ['#ffffff','#ffffd9','#edf8b1','#c7e9b4','#7fcdbb','#41b6c4','#1d91c0','#225ea8','#253494','#081d58']\n",
    "}\n",
    "\n",
    "Map.add_basemap('SATELLITE')\n",
    "Map.addLayer(MODcollection,colorizedVis,'NDSI promedio') \n",
    "Map.addLayer(streamflow,{},'Red hídrica') \n",
    "Map.addLayer(aconcagua_cuenca,{},'Cuenca Río Aconcagua')\n",
    "Map.addLayer(aconcagua_ms.style(fillColor= '00000000',color= '#000000', width= 1),{},'Subsubcuenca cuenca del Río Aconcagua')\n",
    "Map"
   ]
  },
  {
   "cell_type": "code",
   "execution_count": 71,
   "metadata": {},
   "outputs": [
    {
     "data": {
      "application/vnd.jupyter.widget-view+json": {
       "model_id": "c883fb759ddb461f8ed2cd0276cf2934",
       "version_major": 2,
       "version_minor": 0
      },
      "text/plain": [
       "Map(center=[-32.599, -70.1589], controls=(WidgetControl(options=['position', 'transparent_bg'], widget=HBox(ch…"
      ]
     },
     "metadata": {},
     "output_type": "display_data"
    }
   ],
   "source": [
    "#Rio Colorado antes junta Estero Riecillos\n",
    "Map = geemap.Map(center=[-32.599,-70.1589], zoom=11)\n",
    "streamflow = ee.FeatureCollection(\"WWF/HydroSHEDS/v1/FreeFlowingRivers\").filter(ee.Filter.eq('BAS_ID', 3975615)).style(color= 'B2B2B3')\n",
    "aconcagua_cuenca = ee.FeatureCollection(\"users/observatorionieves/DGA/aconcagua_cuenca\").style(color= '#FF0000', width=1, fillColor= '00000000')\n",
    "aconcagua_ms = ee.FeatureCollection(\"users/observatorionieves/DGA/aconcagua_subsubcuencas_ms\").filter(ee.Filter.eq('COD_SSUBC', '05404'))\n",
    "MODcollection  = ee.Image('MODIS/006/MOD10A1/2022_02_10').select(['NDSI_Snow_Cover'],['Snow_Albedo_Daily_Tile_Class']).clip(aconcagua_ms)\n",
    "\n",
    "colorizedVis = {\n",
    "  'min': 0.0,\n",
    "  'max': 100.0,\n",
    "  'palette': ['#ffffff','#ffffd9','#edf8b1','#c7e9b4','#7fcdbb','#41b6c4','#1d91c0','#225ea8','#253494','#081d58']\n",
    "}\n",
    "\n",
    "Map.add_basemap('SATELLITE')\n",
    "Map.addLayer(MODcollection,colorizedVis,'NDSI promedio') \n",
    "Map.addLayer(streamflow,{},'Red hídrica') \n",
    "Map.addLayer(aconcagua_cuenca,{},'Cuenca Río Aconcagua')\n",
    "Map.addLayer(aconcagua_ms.style(fillColor= '00000000',color= '#000000', width= 1),{},'Subsubcuenca cuenca del Río Aconcagua')\n",
    "Map"
   ]
  },
  {
   "cell_type": "code",
   "execution_count": 76,
   "metadata": {},
   "outputs": [
    {
     "data": {
      "application/vnd.jupyter.widget-view+json": {
       "model_id": "1f0c702f13d443a89895f5dea56d463d",
       "version_major": 2,
       "version_minor": 0
      },
      "text/plain": [
       "Map(center=[-32.699, -70.1589], controls=(WidgetControl(options=['position', 'transparent_bg'], widget=HBox(ch…"
      ]
     },
     "metadata": {},
     "output_type": "display_data"
    }
   ],
   "source": [
    "#05405, Estero Riecillos\n",
    "Map = geemap.Map(center=[-32.699,-70.1589], zoom=11)\n",
    "streamflow = ee.FeatureCollection(\"WWF/HydroSHEDS/v1/FreeFlowingRivers\").filter(ee.Filter.eq('BAS_ID', 3975615)).style(color= 'B2B2B3')\n",
    "aconcagua_cuenca = ee.FeatureCollection(\"users/observatorionieves/DGA/aconcagua_cuenca\").style(color= '#FF0000', width=1, fillColor= '00000000')\n",
    "aconcagua_ms = ee.FeatureCollection(\"users/observatorionieves/DGA/aconcagua_subsubcuencas_ms\").filter(ee.Filter.eq('COD_SSUBC', '05405'))\n",
    "MODcollection  = ee.Image('MODIS/006/MOD10A1/2022_02_10').select(['NDSI_Snow_Cover'],['Snow_Albedo_Daily_Tile_Class']).clip(aconcagua_ms)\n",
    "\n",
    "colorizedVis = {\n",
    "  'min': 0.0,\n",
    "  'max': 100.0,\n",
    "  'palette': ['#ffffff','#ffffd9','#edf8b1','#c7e9b4','#7fcdbb','#41b6c4','#1d91c0','#225ea8','#253494','#081d58']\n",
    "}\n",
    "\n",
    "Map.add_basemap('SATELLITE')\n",
    "Map.addLayer(MODcollection,colorizedVis,'NDSI promedio') \n",
    "Map.addLayer(streamflow,{},'Red hídrica') \n",
    "Map.addLayer(aconcagua_cuenca,{},'Cuenca Río Aconcagua')\n",
    "Map.addLayer(aconcagua_ms.style(fillColor= '00000000',color= '#000000', width= 1),{},'Subsubcuenca cuenca del Río Aconcagua')\n",
    "Map"
   ]
  },
  {
   "cell_type": "code",
   "execution_count": 81,
   "metadata": {},
   "outputs": [
    {
     "data": {
      "application/vnd.jupyter.widget-view+json": {
       "model_id": "4a75f16af1e74f719dc1d658d8d9fd83",
       "version_major": 2,
       "version_minor": 0
      },
      "text/plain": [
       "Map(center=[-32.799, -70.1589], controls=(WidgetControl(options=['position', 'transparent_bg'], widget=HBox(ch…"
      ]
     },
     "metadata": {},
     "output_type": "display_data"
    }
   ],
   "source": [
    "#05406, Rio Colorado Entre Estero Riecillos y Rio Aconcagua\n",
    "Map = geemap.Map(center=[-32.799,-70.1589], zoom=11)\n",
    "streamflow = ee.FeatureCollection(\"WWF/HydroSHEDS/v1/FreeFlowingRivers\").filter(ee.Filter.eq('BAS_ID', 3975615)).style(color= 'B2B2B3')\n",
    "aconcagua_cuenca = ee.FeatureCollection(\"users/observatorionieves/DGA/aconcagua_cuenca\").style(color= '#FF0000', width=1, fillColor= '00000000')\n",
    "aconcagua_ms = ee.FeatureCollection(\"users/observatorionieves/DGA/aconcagua_subsubcuencas_ms\").filter(ee.Filter.eq('COD_SSUBC', '05406'))\n",
    "MODcollection  = ee.Image('MODIS/006/MOD10A1/2022_02_10').select(['NDSI_Snow_Cover'],['Snow_Albedo_Daily_Tile_Class']).clip(aconcagua_ms)\n",
    "\n",
    "colorizedVis = {\n",
    "  'min': 0.0,\n",
    "  'max': 100.0,\n",
    "  'palette': ['#ffffff','#ffffd9','#edf8b1','#c7e9b4','#7fcdbb','#41b6c4','#1d91c0','#225ea8','#253494','#081d58']\n",
    "}\n",
    "\n",
    "Map.add_basemap('SATELLITE')\n",
    "Map.addLayer(MODcollection,colorizedVis,'NDSI promedio') \n",
    "Map.addLayer(streamflow,{},'Red hídrica') \n",
    "Map.addLayer(aconcagua_cuenca,{},'Cuenca Río Aconcagua')\n",
    "Map.addLayer(aconcagua_ms.style(fillColor= '00000000',color= '#000000', width= 1),{},'Subsubcuenca cuenca del Río Aconcagua')\n",
    "Map"
   ]
  },
  {
   "cell_type": "code",
   "execution_count": 82,
   "metadata": {},
   "outputs": [
    {
     "data": {
      "application/vnd.jupyter.widget-view+json": {
       "model_id": "faf0640454a6428b8bed18e66f7f9419",
       "version_major": 2,
       "version_minor": 0
      },
      "text/plain": [
       "Map(center=[-32.839, -70.4381], controls=(WidgetControl(options=['position', 'transparent_bg'], widget=HBox(ch…"
      ]
     },
     "metadata": {},
     "output_type": "display_data"
    }
   ],
   "source": [
    "#05410, Rio Aconcagua entre Rio Colorado y Rio Putaendo\n",
    "Map = geemap.Map(center=[-32.839,-70.4381], zoom=11)\n",
    "streamflow = ee.FeatureCollection(\"WWF/HydroSHEDS/v1/FreeFlowingRivers\").filter(ee.Filter.eq('BAS_ID', 3975615)).style(color= 'B2B2B3')\n",
    "aconcagua_cuenca = ee.FeatureCollection(\"users/observatorionieves/DGA/aconcagua_cuenca\").style(color= '#FF0000', width=1, fillColor= '00000000')\n",
    "aconcagua_ms = ee.FeatureCollection(\"users/observatorionieves/DGA/aconcagua_subsubcuencas_ms\").filter(ee.Filter.eq('COD_SSUBC', '05410'))\n",
    "MODcollection  = ee.Image('MODIS/006/MOD10A1/2022_02_10').select(['NDSI_Snow_Cover'],['Snow_Albedo_Daily_Tile_Class']).clip(aconcagua_ms)\n",
    "\n",
    "colorizedVis = {\n",
    "  'min': 0.0,\n",
    "  'max': 100.0,\n",
    "  'palette': ['#ffffff','#ffffd9','#edf8b1','#c7e9b4','#7fcdbb','#41b6c4','#1d91c0','#225ea8','#253494','#081d58']\n",
    "}\n",
    "\n",
    "Map.add_basemap('SATELLITE')\n",
    "Map.addLayer(MODcollection,colorizedVis,'NDSI promedio') \n",
    "Map.addLayer(streamflow,{},'Red hídrica') \n",
    "Map.addLayer(aconcagua_cuenca,{},'Cuenca Río Aconcagua')\n",
    "Map.addLayer(aconcagua_ms.style(fillColor= '00000000',color= '#000000', width= 1),{},'Subsubcuenca cuenca del Río Aconcagua')\n",
    "Map"
   ]
  },
  {
   "cell_type": "code",
   "execution_count": 85,
   "metadata": {},
   "outputs": [
    {
     "data": {
      "application/vnd.jupyter.widget-view+json": {
       "model_id": "f1fc161e128443188f3cb38668bf3615",
       "version_major": 2,
       "version_minor": 0
      },
      "text/plain": [
       "Map(center=[-32.919, -70.4381], controls=(WidgetControl(options=['position', 'transparent_bg'], widget=HBox(ch…"
      ]
     },
     "metadata": {},
     "output_type": "display_data"
    }
   ],
   "source": [
    "#05411, Estero Pocuro\n",
    "Map = geemap.Map(center=[-32.919,-70.4381], zoom=11)\n",
    "streamflow = ee.FeatureCollection(\"WWF/HydroSHEDS/v1/FreeFlowingRivers\").filter(ee.Filter.eq('BAS_ID', 3975615)).style(color= 'B2B2B3')\n",
    "aconcagua_cuenca = ee.FeatureCollection(\"users/observatorionieves/DGA/aconcagua_cuenca\").style(color= '#FF0000', width=1, fillColor= '00000000')\n",
    "aconcagua_ms = ee.FeatureCollection(\"users/observatorionieves/DGA/aconcagua_subsubcuencas_ms\").filter(ee.Filter.eq('COD_SSUBC', '05411'))\n",
    "MODcollection  = ee.Image('MODIS/006/MOD10A1/2022_02_10').select(['NDSI_Snow_Cover'],['Snow_Albedo_Daily_Tile_Class']).clip(aconcagua_ms)\n",
    "\n",
    "colorizedVis = {\n",
    "  'min': 0.0,\n",
    "  'max': 100.0,\n",
    "  'palette': ['#ffffff','#ffffd9','#edf8b1','#c7e9b4','#7fcdbb','#41b6c4','#1d91c0','#225ea8','#253494','#081d58']\n",
    "}\n",
    "\n",
    "Map.add_basemap('SATELLITE')\n",
    "Map.addLayer(MODcollection,colorizedVis,'NDSI promedio') \n",
    "Map.addLayer(streamflow,{},'Red hídrica') \n",
    "Map.addLayer(aconcagua_cuenca,{},'Cuenca Río Aconcagua')\n",
    "Map.addLayer(aconcagua_ms.style(fillColor= '00000000',color= '#000000', width= 1),{},'Subsubcuenca cuenca del Río Aconcagua')\n",
    "Map"
   ]
  },
  {
   "cell_type": "code",
   "execution_count": 122,
   "metadata": {},
   "outputs": [
    {
     "data": {
      "application/vnd.jupyter.widget-view+json": {
       "model_id": "67763c4cedb34d6698c1dbd9c60fbd15",
       "version_major": 2,
       "version_minor": 0
      },
      "text/plain": [
       "Map(center=[-32.379, -70.2589], controls=(WidgetControl(options=['position', 'transparent_bg'], widget=HBox(ch…"
      ]
     },
     "metadata": {},
     "output_type": "display_data"
    }
   ],
   "source": [
    "#05412, Rio Putaendo bajo junta Rio Hidalgo\n",
    "Map = geemap.Map(center=[-32.379,-70.2589], zoom=11)\n",
    "streamflow = ee.FeatureCollection(\"WWF/HydroSHEDS/v1/FreeFlowingRivers\").filter(ee.Filter.eq('BAS_ID', 3975615)).style(color= 'B2B2B3')\n",
    "aconcagua_cuenca = ee.FeatureCollection(\"users/observatorionieves/DGA/aconcagua_cuenca\").style(color= '#FF0000', width=1, fillColor= '00000000')\n",
    "aconcagua_ms = ee.FeatureCollection(\"users/observatorionieves/DGA/aconcagua_subsubcuencas_ms\").filter(ee.Filter.eq('COD_SSUBC', '05412'))\n",
    "MODcollection  = ee.Image('MODIS/006/MOD10A1/2022_02_10').select(['NDSI_Snow_Cover'],['Snow_Albedo_Daily_Tile_Class']).clip(aconcagua_ms)\n",
    "\n",
    "colorizedVis = {\n",
    "  'min': 0.0,\n",
    "  'max': 100.0,\n",
    "  'palette': ['#ffffff','#ffffd9','#edf8b1','#c7e9b4','#7fcdbb','#41b6c4','#1d91c0','#225ea8','#253494','#081d58']\n",
    "}\n",
    "\n",
    "Map.add_basemap('SATELLITE')\n",
    "Map.addLayer(MODcollection,colorizedVis,'NDSI promedio') \n",
    "Map.addLayer(streamflow,{},'Red hídrica') \n",
    "Map.addLayer(aconcagua_cuenca,{},'Cuenca Río Aconcagua')\n",
    "Map.addLayer(aconcagua_ms.style(fillColor= '00000000',color= '#000000', width= 1),{},'Subsubcuenca cuenca del Río Aconcagua')\n",
    "Map"
   ]
  },
  {
   "cell_type": "code",
   "execution_count": 96,
   "metadata": {},
   "outputs": [
    {
     "data": {
      "application/vnd.jupyter.widget-view+json": {
       "model_id": "3275f00f7ed848d78a6ed9b24b9a722b",
       "version_major": 2,
       "version_minor": 0
      },
      "text/plain": [
       "Map(center=[-32.439, -70.4381], controls=(WidgetControl(options=['position', 'transparent_bg'], widget=HBox(ch…"
      ]
     },
     "metadata": {},
     "output_type": "display_data"
    }
   ],
   "source": [
    "#.filter(ee.Filter.eq('COD_SSUBC', '05413'))\n",
    "Map = geemap.Map(center=[-32.439,-70.4381], zoom=11)\n",
    "streamflow = ee.FeatureCollection(\"WWF/HydroSHEDS/v1/FreeFlowingRivers\").filter(ee.Filter.eq('BAS_ID', 3975615)).style(color= 'B2B2B3')\n",
    "aconcagua_cuenca = ee.FeatureCollection(\"users/observatorionieves/DGA/aconcagua_cuenca\").style(color= '#FF0000', width=1, fillColor= '00000000')\n",
    "aconcagua_ms = ee.FeatureCollection(\"users/observatorionieves/DGA/aconcagua_subsubcuencas_ms\").filter(ee.Filter.eq('COD_SSUBC', '05413'))\n",
    "MODcollection  = ee.Image('MODIS/006/MOD10A1/2022_02_10').select(['NDSI_Snow_Cover'],['Snow_Albedo_Daily_Tile_Class']).clip(aconcagua_ms)\n",
    "\n",
    "colorizedVis = {\n",
    "  'min': 0.0,\n",
    "  'max': 100.0,\n",
    "  'palette': ['#ffffff','#ffffd9','#edf8b1','#c7e9b4','#7fcdbb','#41b6c4','#1d91c0','#225ea8','#253494','#081d58']\n",
    "}\n",
    "\n",
    "Map.add_basemap('SATELLITE')\n",
    "Map.addLayer(MODcollection,colorizedVis,'NDSI promedio') \n",
    "Map.addLayer(streamflow,{},'Red hídrica') \n",
    "Map.addLayer(aconcagua_cuenca,{},'Cuenca Río Aconcagua')\n",
    "Map.addLayer(aconcagua_ms.style(fillColor= '00000000',color= '#000000', width= 1),{},'Subsubcuenca cuenca del Río Aconcagua')\n",
    "Map"
   ]
  },
  {
   "cell_type": "code",
   "execution_count": 103,
   "metadata": {},
   "outputs": [
    {
     "data": {
      "application/vnd.jupyter.widget-view+json": {
       "model_id": "1dda54a09c2841bc84f202cef59aea5a",
       "version_major": 2,
       "version_minor": 0
      },
      "text/plain": [
       "Map(center=[-32.5739, -70.6381], controls=(WidgetControl(options=['position', 'transparent_bg'], widget=HBox(c…"
      ]
     },
     "metadata": {},
     "output_type": "display_data"
    }
   ],
   "source": [
    "#05414, Rio Putaendo Entre Estero Chalaco y Rio Aconcagua\n",
    "Map = geemap.Map(center=[-32.5739,-70.6381], zoom=11)\n",
    "streamflow = ee.FeatureCollection(\"WWF/HydroSHEDS/v1/FreeFlowingRivers\").filter(ee.Filter.eq('BAS_ID', 3975615)).style(color= 'B2B2B3')\n",
    "aconcagua_cuenca = ee.FeatureCollection(\"users/observatorionieves/DGA/aconcagua_cuenca\").style(color= '#FF0000', width=1, fillColor= '00000000')\n",
    "aconcagua_ms = ee.FeatureCollection(\"users/observatorionieves/DGA/aconcagua_subsubcuencas_ms\").filter(ee.Filter.eq('COD_SSUBC', '05414'))\n",
    "MODcollection  = ee.Image('MODIS/006/MOD10A1/2022_02_10').select(['NDSI_Snow_Cover'],['Snow_Albedo_Daily_Tile_Class']).clip(aconcagua_ms)\n",
    "\n",
    "colorizedVis = {\n",
    "  'min': 0.0,\n",
    "  'max': 100.0,\n",
    "  'palette': ['#ffffff','#ffffd9','#edf8b1','#c7e9b4','#7fcdbb','#41b6c4','#1d91c0','#225ea8','#253494','#081d58']\n",
    "}\n",
    "\n",
    "Map.add_basemap('SATELLITE')\n",
    "Map.addLayer(MODcollection,colorizedVis,'NDSI promedio') \n",
    "Map.addLayer(streamflow,{},'Red hídrica') \n",
    "Map.addLayer(aconcagua_cuenca,{},'Cuenca Río Aconcagua')\n",
    "Map.addLayer(aconcagua_ms.style(fillColor= '00000000',color= '#000000', width= 1),{},'Subsubcuenca cuenca del Río Aconcagua')\n",
    "Map"
   ]
  },
  {
   "cell_type": "code",
   "execution_count": 107,
   "metadata": {},
   "outputs": [
    {
     "data": {
      "application/vnd.jupyter.widget-view+json": {
       "model_id": "b2ae21f7ed0e4368b2a0657cb713031f",
       "version_major": 2,
       "version_minor": 0
      },
      "text/plain": [
       "Map(center=[-32.659, -70.4381], controls=(WidgetControl(options=['position', 'transparent_bg'], widget=HBox(ch…"
      ]
     },
     "metadata": {},
     "output_type": "display_data"
    }
   ],
   "source": [
    "#05415, Estero Quilpué\n",
    "Map = geemap.Map(center=[-32.659,-70.4381], zoom=11)\n",
    "streamflow = ee.FeatureCollection(\"WWF/HydroSHEDS/v1/FreeFlowingRivers\").filter(ee.Filter.eq('BAS_ID', 3975615)).style(color= 'B2B2B3')\n",
    "aconcagua_cuenca = ee.FeatureCollection(\"users/observatorionieves/DGA/aconcagua_cuenca\").style(color= '#FF0000', width=1, fillColor= '00000000')\n",
    "aconcagua_ms = ee.FeatureCollection(\"users/observatorionieves/DGA/aconcagua_subsubcuencas_ms\").filter(ee.Filter.eq('COD_SSUBC', '05415'))\n",
    "MODcollection  = ee.Image('MODIS/006/MOD10A1/2022_02_10').select(['NDSI_Snow_Cover'],['Snow_Albedo_Daily_Tile_Class']).clip(aconcagua_ms)\n",
    "\n",
    "colorizedVis = {\n",
    "  'min': 0.0,\n",
    "  'max': 100.0,\n",
    "  'palette': ['#ffffff','#ffffd9','#edf8b1','#c7e9b4','#7fcdbb','#41b6c4','#1d91c0','#225ea8','#253494','#081d58']\n",
    "}\n",
    "\n",
    "Map.add_basemap('SATELLITE')\n",
    "Map.addLayer(MODcollection,colorizedVis,'NDSI promedio') \n",
    "Map.addLayer(streamflow,{},'Red hídrica') \n",
    "Map.addLayer(aconcagua_cuenca,{},'Cuenca Río Aconcagua')\n",
    "Map.addLayer(aconcagua_ms.style(fillColor= '00000000',color= '#000000', width= 1),{},'Subsubcuenca cuenca del Río Aconcagua')\n",
    "Map"
   ]
  },
  {
   "cell_type": "code",
   "execution_count": 112,
   "metadata": {},
   "outputs": [
    {
     "data": {
      "application/vnd.jupyter.widget-view+json": {
       "model_id": "7b924cf52f3d416f97ee21ee3387a378",
       "version_major": 2,
       "version_minor": 0
      },
      "text/plain": [
       "Map(center=[-32.639, -70.7381], controls=(WidgetControl(options=['position', 'transparent_bg'], widget=HBox(ch…"
      ]
     },
     "metadata": {},
     "output_type": "display_data"
    }
   ],
   "source": [
    "#05416, Estero Seco\n",
    "Map = geemap.Map(center=[-32.639,-70.7381], zoom=11)\n",
    "streamflow = ee.FeatureCollection(\"WWF/HydroSHEDS/v1/FreeFlowingRivers\").filter(ee.Filter.eq('BAS_ID', 3975615)).style(color= 'B2B2B3')\n",
    "aconcagua_cuenca = ee.FeatureCollection(\"users/observatorionieves/DGA/aconcagua_cuenca\").style(color= '#FF0000', width=1, fillColor= '00000000')\n",
    "aconcagua_ms = ee.FeatureCollection(\"users/observatorionieves/DGA/aconcagua_subsubcuencas_ms\").filter(ee.Filter.eq('COD_SSUBC', '05416'))\n",
    "MODcollection  = ee.Image('MODIS/006/MOD10A1/2022_02_10').select(['NDSI_Snow_Cover'],['Snow_Albedo_Daily_Tile_Class']).clip(aconcagua_ms)\n",
    "\n",
    "colorizedVis = {\n",
    "  'min': 0.0,\n",
    "  'max': 100.0,\n",
    "  'palette': ['#ffffff','#ffffd9','#edf8b1','#c7e9b4','#7fcdbb','#41b6c4','#1d91c0','#225ea8','#253494','#081d58']\n",
    "}\n",
    "\n",
    "Map.add_basemap('SATELLITE')\n",
    "Map.addLayer(MODcollection,colorizedVis,'NDSI promedio') \n",
    "Map.addLayer(streamflow,{},'Red hídrica') \n",
    "Map.addLayer(aconcagua_cuenca,{},'Cuenca Río Aconcagua')\n",
    "Map.addLayer(aconcagua_ms.style(fillColor= '00000000',color= '#000000', width= 1),{},'Subsubcuenca cuenca del Río Aconcagua')\n",
    "Map"
   ]
  },
  {
   "cell_type": "code",
   "execution_count": null,
   "metadata": {},
   "outputs": [],
   "source": [
    "download_dir = os.path.join(os.path.expanduser('~'), 'Downloads')\n",
    "if not os.path.exists(download_dir):\n",
    "    os.makedirs(download_dir)\n",
    "html_file = os.path.join(download_dir, 'test.html')"
   ]
  },
  {
   "cell_type": "code",
   "execution_count": null,
   "metadata": {},
   "outputs": [],
   "source": [
    "Map.to_html(outfile=html_file, title='test', width='100%', height='880px')"
   ]
  }
 ],
 "metadata": {
  "interpreter": {
   "hash": "402c1ccfd131d8eef133abc97063dd0df0ccc9d667fd2ffe963518e290673b28"
  },
  "kernelspec": {
   "display_name": "Python 3.8.12 ('ee')",
   "language": "python",
   "name": "python3"
  },
  "language_info": {
   "codemirror_mode": {
    "name": "ipython",
    "version": 3
   },
   "file_extension": ".py",
   "mimetype": "text/x-python",
   "name": "python",
   "nbconvert_exporter": "python",
   "pygments_lexer": "ipython3",
   "version": "3.8.12"
  },
  "orig_nbformat": 4
 },
 "nbformat": 4,
 "nbformat_minor": 2
}
