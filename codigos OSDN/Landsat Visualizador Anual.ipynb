{
 "cells": [
  {
   "cell_type": "code",
   "execution_count": 6,
   "metadata": {},
   "outputs": [],
   "source": [
    "import ee\n",
    "import geemap\n",
    "import os\n",
    "\n",
    "import datetime"
   ]
  },
  {
   "cell_type": "code",
   "execution_count": 2,
   "metadata": {},
   "outputs": [],
   "source": [
    "service_account = 'promedio-a--de-nieve-6bbfb64d1@ee-ezequiellagos.iam.gserviceaccount.com'\n",
    "credentials = ee.ServiceAccountCredentials(service_account, 'ee-ezequiellagos-0e8769baf6cb.json')\n",
    "ee.Initialize(credentials)"
   ]
  },
  {
   "cell_type": "code",
   "execution_count": 23,
   "metadata": {},
   "outputs": [
    {
     "name": "stdout",
     "output_type": "stream",
     "text": [
      "2022-04-25 16:13:30.067714: Landsat Anual 1989\n",
      "2022-04-25 16:13:35.528877: Landsat Anual 1990\n",
      "2022-04-25 16:13:40.423650: Landsat Anual 1991\n",
      "2022-04-25 16:13:44.907771: Landsat Anual 1992\n",
      "2022-04-25 16:13:49.587770: Landsat Anual 1993\n",
      "2022-04-25 16:13:53.862109: Landsat Anual 1994\n",
      "2022-04-25 16:13:58.335523: Landsat Anual 1995\n",
      "2022-04-25 16:14:02.872893: Landsat Anual 1996\n",
      "2022-04-25 16:14:07.357063: Landsat Anual 1997\n",
      "2022-04-25 16:14:11.993694: Landsat Anual 1998\n",
      "2022-04-25 16:14:16.316054: Landsat Anual 1999\n",
      "2022-04-25 16:14:21.194815: Landsat Anual 2000\n",
      "2022-04-25 16:14:25.849459: Landsat Anual 2001\n",
      "2022-04-25 16:14:30.337455: Landsat Anual 2002\n",
      "2022-04-25 16:14:35.058049: Landsat Anual 2003\n",
      "2022-04-25 16:14:39.745309: Landsat Anual 2004\n",
      "2022-04-25 16:14:44.929614: Landsat Anual 2005\n",
      "2022-04-25 16:14:49.537589: Landsat Anual 2006\n",
      "2022-04-25 16:14:54.285928: Landsat Anual 2007\n",
      "2022-04-25 16:14:59.540220: Landsat Anual 2008\n",
      "2022-04-25 16:15:04.279411: Landsat Anual 2009\n",
      "2022-04-25 16:15:09.254370: Landsat Anual 2010\n",
      "2022-04-25 16:15:14.200308: Landsat Anual 2011\n",
      "2022-04-25 16:15:19.683960: Landsat Anual 2012\n",
      "2022-04-25 16:15:24.815471: Landsat Anual 2013\n",
      "2022-04-25 16:15:29.925977: Landsat Anual 2014\n",
      "2022-04-25 16:15:34.958566: Landsat Anual 2015\n",
      "2022-04-25 16:15:40.439112: Landsat Anual 2016\n",
      "2022-04-25 16:15:46.211374: Landsat Anual 2017\n",
      "2022-04-25 16:15:51.263357: Landsat Anual 2018\n",
      "2022-04-25 16:15:56.824888: Landsat Anual 2019\n",
      "2022-04-25 16:16:02.180329: Landsat Anual 2020\n",
      "Image.load: Image asset 'users/observatorionieves/Landsat/Snow_Yearly/2021' not found.\n",
      "Image.load: Image asset 'users/observatorionieves/Landsat/Snow_Yearly/2022' not found.\n"
     ]
    }
   ],
   "source": [
    "now = datetime.datetime.now()\n",
    "\n",
    "for year in range(1989, now.year + 1):\n",
    "  try:\n",
    "    current_time = datetime.datetime.now()\n",
    "\n",
    "    Map = geemap.Map(center=[-32.839,-70.8484], zoom=9)\n",
    "\n",
    "    snowyearly = ee.Image('users/observatorionieves/Landsat/Snow_Yearly/'+ str(year)).select('NDSI')\n",
    "    streamflow = ee.FeatureCollection(\"WWF/HydroSHEDS/v1/FreeFlowingRivers\").filter(ee.Filter.eq('BAS_ID', 3975615)).style(color= 'B2B2B3')\n",
    "    aconcagua_cuenca = ee.FeatureCollection(\"users/observatorionieves/DGA/aconcagua_cuenca\").style(color= '000', width=1, fillColor= '00000000')\n",
    "    subsubcuencas_ms = ee.FeatureCollection(\"users/observatorionieves/DGA/aconcagua_subsubcuencas_ms\").style(color= '000', width= 1, fillColor= '00000000')\n",
    "\n",
    "    colorizedVis = {\n",
    "      'min': 0,\n",
    "      'max': 100,\n",
    "      'palette': [ #Paleta obtenida de snowcloudmetrics  https://github.com/SnowCloudMetrics/Earth_Engine_Scripts/blob/master/SnowCloudMetrics_app_ui.txt\n",
    "                'ffffff', #  0 - 10 Blanco\n",
    "                'ffffd9', # 10 - 20 Blanco\n",
    "                'edf8b1', # 20 - 30 Azul              //'ffebbe'\n",
    "                'c7e9b4', # 30 - 40 Celeste\n",
    "                '7fcdbb', # 40 - 50 Celeste\n",
    "                '41b6c4', # 50 - 60 azul claro\n",
    "                '1d91c0', # 60 - 70 crema pálido     //21d291  //179164\n",
    "                '225ea8', # 70 - 80 celeste         //14dada\n",
    "                '253494', # 80 - 90 Azul\n",
    "                '081d58', # 90- 100 Azul\n",
    "    ],\n",
    "    }\n",
    "\n",
    "    Map.add_basemap('SATELLITE')\n",
    "    Map.addLayer(snowyearly,colorizedVis,\"Nieve caída\") \n",
    "    Map.addLayer(streamflow,{},'Red hídrica') \n",
    "    Map.addLayer(aconcagua_cuenca,{},'Aconcagua cuenca')\n",
    "    Map.addLayer(subsubcuencas_ms,{},'Aconcagua subsubcuencas')\n",
    "    Map.add_colorbar(colorizedVis, label='Promedio de presencia de nieve (%)'),#orientation='vertical')\n",
    "\n",
    "    # Map\n",
    "\n",
    "    # Generar HTML\n",
    "    production = False\n",
    "    if production:\n",
    "        download_dir_base = 'web/media/maps/landsat/anual'\n",
    "    else:\n",
    "        download_dir_base = 'Downloads/maps/landsat/anual'\n",
    "    \n",
    "    html_file_name = str(year) + '.html'\n",
    "    title_html = 'Landsat Anual - '+ str(year)\n",
    "    output = f'{current_time}: Landsat Anual {year}'\n",
    "\n",
    "    download_dir = os.path.join(os.path.expanduser('~'), download_dir_base)\n",
    "    if not os.path.exists(download_dir):\n",
    "        os.makedirs(download_dir)\n",
    "    html_file = os.path.join(download_dir, html_file_name)\n",
    "\n",
    "    Map.to_html(outfile=html_file, title=title_html, width='100%', height='880px')\n",
    "    print(output)\n",
    "  except Exception as e:\n",
    "    print(e)\n",
    "    continue\n",
    "\n",
    "\n"
   ]
  },
  {
   "cell_type": "code",
   "execution_count": 6,
   "metadata": {},
   "outputs": [],
   "source": [
    "download_dir = os.path.join(os.path.expanduser('~'), 'Downloads')\n",
    "if not os.path.exists(download_dir):\n",
    "    os.makedirs(download_dir)\n",
    "html_file = os.path.join(download_dir, '2020_Landsat.html')"
   ]
  },
  {
   "cell_type": "code",
   "execution_count": 7,
   "metadata": {},
   "outputs": [],
   "source": [
    "Map.to_html(outfile=html_file, title='2020', width='100%', height='880px')"
   ]
  }
 ],
 "metadata": {
  "interpreter": {
   "hash": "402c1ccfd131d8eef133abc97063dd0df0ccc9d667fd2ffe963518e290673b28"
  },
  "kernelspec": {
   "display_name": "Python 3.8.12 64-bit ('ee': conda)",
   "language": "python",
   "name": "python3"
  },
  "language_info": {
   "codemirror_mode": {
    "name": "ipython",
    "version": 3
   },
   "file_extension": ".py",
   "mimetype": "text/x-python",
   "name": "python",
   "nbconvert_exporter": "python",
   "pygments_lexer": "ipython3",
   "version": "3.8.12"
  },
  "orig_nbformat": 4
 },
 "nbformat": 4,
 "nbformat_minor": 2
}
