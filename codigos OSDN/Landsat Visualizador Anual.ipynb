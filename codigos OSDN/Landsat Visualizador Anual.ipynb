{
 "cells": [
  {
   "cell_type": "code",
   "execution_count": 1,
   "metadata": {},
   "outputs": [],
   "source": [
    "import ee\n",
    "import geemap\n",
    "import os\n",
    "import datetime"
   ]
  },
  {
   "cell_type": "code",
   "execution_count": 2,
   "metadata": {},
   "outputs": [],
   "source": [
    "service_account = 'promedio-a--de-nieve-6bbfb64d1@ee-ezequiellagos.iam.gserviceaccount.com'\n",
    "credentials = ee.ServiceAccountCredentials(service_account, 'ee-ezequiellagos-0e8769baf6cb.json')\n",
    "ee.Initialize(credentials)"
   ]
  },
  {
   "cell_type": "code",
   "execution_count": 3,
   "metadata": {},
   "outputs": [
    {
     "name": "stdout",
     "output_type": "stream",
     "text": [
      "2022-05-17 14:21:34.251187: Landsat Anual 1989\n",
      "2022-05-17 14:21:37.993344: Landsat Anual 1990\n",
      "2022-05-17 14:21:41.192907: Landsat Anual 1991\n",
      "2022-05-17 14:21:44.634133: Landsat Anual 1992\n",
      "2022-05-17 14:21:47.496723: Landsat Anual 1993\n",
      "2022-05-17 14:21:50.284815: Landsat Anual 1994\n",
      "2022-05-17 14:21:53.257412: Landsat Anual 1995\n",
      "2022-05-17 14:21:56.620392: Landsat Anual 1996\n",
      "2022-05-17 14:21:59.474543: Landsat Anual 1997\n",
      "2022-05-17 14:22:02.828437: Landsat Anual 1998\n",
      "2022-05-17 14:22:06.429172: Landsat Anual 1999\n",
      "2022-05-17 14:22:09.972672: Landsat Anual 2000\n",
      "2022-05-17 14:22:13.580670: Landsat Anual 2001\n",
      "2022-05-17 14:22:17.090710: Landsat Anual 2002\n",
      "2022-05-17 14:22:20.727914: Landsat Anual 2003\n",
      "2022-05-17 14:22:24.393915: Landsat Anual 2004\n",
      "2022-05-17 14:22:28.736006: Landsat Anual 2005\n",
      "2022-05-17 14:22:32.176134: Landsat Anual 2006\n",
      "2022-05-17 14:22:35.525135: Landsat Anual 2007\n",
      "2022-05-17 14:22:38.997668: Landsat Anual 2008\n",
      "2022-05-17 14:22:42.658275: Landsat Anual 2009\n",
      "2022-05-17 14:22:46.259313: Landsat Anual 2010\n",
      "2022-05-17 14:22:50.320899: Landsat Anual 2011\n",
      "2022-05-17 14:22:55.362995: Landsat Anual 2012\n",
      "2022-05-17 14:23:00.641320: Landsat Anual 2013\n",
      "2022-05-17 14:23:05.672368: Landsat Anual 2014\n",
      "2022-05-17 14:23:10.889381: Landsat Anual 2015\n",
      "2022-05-17 14:23:15.474416: Landsat Anual 2016\n",
      "2022-05-17 14:23:19.602781: Landsat Anual 2017\n",
      "2022-05-17 14:23:23.692690: Landsat Anual 2018\n",
      "2022-05-17 14:23:28.038242: Landsat Anual 2019\n",
      "2022-05-17 14:23:32.036241: Landsat Anual 2020\n",
      "Image.load: Image asset 'users/observatorionieves/Landsat/Snow_Yearly/2021' not found.\n",
      "Image.load: Image asset 'users/observatorionieves/Landsat/Snow_Yearly/2022' not found.\n"
     ]
    }
   ],
   "source": [
    "now = datetime.datetime.now()\n",
    "\n",
    "for year in range(1989, now.year + 1):\n",
    "  try:\n",
    "    current_time = datetime.datetime.now()\n",
    "    \n",
    "    Map = geemap.Map(center=[-32.839,-70.8484], zoom=9)\n",
    "    snowyearly = ee.Image('users/observatorionieves/Landsat/Snow_Yearly/'+ str(year)).select('NDSI')\n",
    "    streamflow = ee.FeatureCollection(\"WWF/HydroSHEDS/v1/FreeFlowingRivers\").filter(ee.Filter.eq('BAS_ID', 3975615)).style(color= 'B2B2B3')\n",
    "    aconcagua_cuenca = ee.FeatureCollection(\"users/observatorionieves/DGA/aconcagua_cuenca\").style(color= '000', width=1, fillColor= '00000000')\n",
    "    subsubcuencas_ms = ee.FeatureCollection(\"users/observatorionieves/DGA/aconcagua_subsubcuencas_ms\").style(color= '000', width= 1, fillColor= '00000000')\n",
    "\n",
    "    colorizedVis = {\n",
    "      'min': 0.0,\n",
    "      'max': 100.0,\n",
    "      'palette': ['#ffffff','#ffffd9','#edf8b1','#c7e9b4','#7fcdbb','#41b6c4','#1d91c0','#225ea8','#253494','#081d58']\n",
    "    }\n",
    "\n",
    "    Map.add_basemap('SATELLITE')\n",
    "    Map.addLayer(snowyearly,colorizedVis,\"Nieve caída\") \n",
    "    Map.addLayer(streamflow,{},'Red hídrica') \n",
    "    Map.addLayer(aconcagua_cuenca,{},'Aconcagua cuenca')\n",
    "    Map.addLayer(subsubcuencas_ms,{},'Aconcagua subsubcuencas')\n",
    "    Map.add_colorbar(colorizedVis, label='Promedio de presencia de nieve (%)'),#orientation='vertical')\n",
    "\n",
    "    # Map\n",
    "\n",
    "    # Generar HTML\n",
    "    production = False\n",
    "    if production:\n",
    "        download_dir_base = 'web/media/maps/landsat/anual'\n",
    "    else:\n",
    "        download_dir_base = 'Downloads/maps/landsat/anual'\n",
    "    \n",
    "    html_file_name = str(year) + '.html'\n",
    "    title_html = 'Landsat Anual - '+ str(year)\n",
    "    output = f'{current_time}: Landsat Anual {year}'\n",
    "\n",
    "    download_dir = os.path.join(os.path.expanduser('~'), download_dir_base)\n",
    "    if not os.path.exists(download_dir):\n",
    "        os.makedirs(download_dir)\n",
    "    html_file = os.path.join(download_dir, html_file_name)\n",
    "\n",
    "    Map.to_html(outfile=html_file, title=title_html, width='100%', height='880px')\n",
    "    print(output)\n",
    "  except Exception as e:\n",
    "    print(e)\n",
    "    continue\n",
    "      \n",
    "\n",
    "\n"
   ]
  }
 ],
 "metadata": {
  "interpreter": {
   "hash": "811ab489599c171fb6d0eaf76a606e9022cc89f8dbf213b9dc9043c9c727f5d4"
  },
  "kernelspec": {
   "display_name": "Python 3.8.8 ('geo')",
   "language": "python",
   "name": "python3"
  },
  "language_info": {
   "codemirror_mode": {
    "name": "ipython",
    "version": 3
   },
   "file_extension": ".py",
   "mimetype": "text/x-python",
   "name": "python",
   "nbconvert_exporter": "python",
   "pygments_lexer": "ipython3",
   "version": "3.8.8"
  },
  "orig_nbformat": 4
 },
 "nbformat": 4,
 "nbformat_minor": 2
}
