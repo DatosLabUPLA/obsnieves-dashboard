{
 "cells": [
  {
   "cell_type": "code",
   "execution_count": 4,
   "metadata": {},
   "outputs": [],
   "source": [
    "import ee\n",
    "import geemap\n",
    "import os\n",
    "import datetime\n",
    "import calendar"
   ]
  },
  {
   "cell_type": "code",
   "execution_count": 2,
   "metadata": {},
   "outputs": [],
   "source": [
    "service_account = 'promedio-a--de-nieve-6bbfb64d1@ee-ezequiellagos.iam.gserviceaccount.com'\n",
    "credentials = ee.ServiceAccountCredentials(service_account, 'ee-ezequiellagos-0e8769baf6cb.json')\n",
    "ee.Initialize(credentials)"
   ]
  },
  {
   "cell_type": "code",
   "execution_count": 5,
   "metadata": {},
   "outputs": [
    {
     "name": "stdout",
     "output_type": "stream",
     "text": [
      "2022-05-17 15:50:26.975109: Sentinel Mensual January\n",
      "2022-05-17 15:50:29.223111: Sentinel Mensual February\n",
      "2022-05-17 15:50:32.214110: Sentinel Mensual March\n",
      "2022-05-17 15:50:35.124113: Sentinel Mensual April\n",
      "2022-05-17 15:50:37.863146: Sentinel Mensual May\n",
      "2022-05-17 15:50:41.350456: Sentinel Mensual June\n",
      "2022-05-17 15:50:45.445624: Sentinel Mensual July\n",
      "2022-05-17 15:50:48.479140: Sentinel Mensual August\n",
      "2022-05-17 15:50:53.069978: Sentinel Mensual September\n",
      "2022-05-17 15:50:56.783796: Sentinel Mensual October\n",
      "2022-05-17 15:51:01.809794: Sentinel Mensual November\n",
      "2022-05-17 15:51:04.895807: Sentinel Mensual December\n"
     ]
    }
   ],
   "source": [
    "for month in range(1,13):\n",
    "  try:\n",
    "    current_time = datetime.datetime.now()\n",
    "\n",
    "    Map = geemap.Map(center=[-32.639,-70.8484], zoom=9)\n",
    "    Map.clear_controls()\n",
    "\n",
    "    snowmonthly = ee.Image('users/observatorionieves/Sentinel/Snow_Monthly/Sentinel_Snow_Monthly_' + str(month).zfill(2))\n",
    "    streamflow = ee.FeatureCollection(\"WWF/HydroSHEDS/v1/FreeFlowingRivers\").filter(ee.Filter.eq('BAS_ID', 3975615)).style(color= 'B2B2B3')\n",
    "    aconcagua_cuenca = ee.FeatureCollection(\"users/observatorionieves/DGA/aconcagua_cuenca\").style(color= '000', width=1, fillColor= '00000000')\n",
    "    subsubcuencas_ms = ee.FeatureCollection(\"users/observatorionieves/DGA/aconcagua_subsubcuencas_ms\").style(color= '000', width= 1, fillColor= '00000000')\n",
    "\n",
    "    colorizedVis = {\n",
    "      'min': 0.0,\n",
    "      'max': 100.0,\n",
    "      'palette': ['#ffffff','#ffffd9','#edf8b1','#c7e9b4','#7fcdbb','#41b6c4','#1d91c0','#225ea8','#253494','#081d58']\n",
    "    }\n",
    "\n",
    "    Map.add_basemap('SATELLITE')\n",
    "    Map.addLayer(snowmonthly,colorizedVis,\"Nieve caída\") \n",
    "    Map.addLayer(streamflow,{},'Red hídrica') \n",
    "    Map.addLayer(aconcagua_cuenca,{},'Aconcagua cuenca')\n",
    "    Map.addLayer(subsubcuencas_ms,{},'Aconcagua subsubcuencas')\n",
    "    Map.add_colorbar(colorizedVis, label='Promedio de presencia de nieve (%)'),#orientation='vertical')\n",
    "\n",
    "    # Map\n",
    "\n",
    "    # Generar HTML\n",
    "    production = False\n",
    "    if production:\n",
    "        download_dir_base = 'web/media/maps/sentinel/mensual'\n",
    "    else:\n",
    "        download_dir_base = 'Downloads/maps/sentinel/mensual'\n",
    "    \n",
    "    html_file_name = calendar.month_name[month].lower() + '.html'\n",
    "    title_html = 'Sentinel Mensual - '+ calendar.month_name[month]\n",
    "    output = f'{current_time}: Sentinel Mensual {calendar.month_name[month]}'\n",
    "\n",
    "    download_dir = os.path.join(os.path.expanduser('~'), download_dir_base)\n",
    "    if not os.path.exists(download_dir):\n",
    "        os.makedirs(download_dir)\n",
    "    html_file = os.path.join(download_dir, html_file_name)\n",
    "\n",
    "    Map.to_html(outfile=html_file, title=title_html, width='100%', height='570px')\n",
    "    print(output)\n",
    "  except Exception as e:\n",
    "    print(e)\n",
    "    continue\n",
    "\n"
   ]
  }
 ],
 "metadata": {
  "interpreter": {
   "hash": "811ab489599c171fb6d0eaf76a606e9022cc89f8dbf213b9dc9043c9c727f5d4"
  },
  "kernelspec": {
   "display_name": "Python 3.8.8 ('geo')",
   "language": "python",
   "name": "python3"
  },
  "language_info": {
   "codemirror_mode": {
    "name": "ipython",
    "version": 3
   },
   "file_extension": ".py",
   "mimetype": "text/x-python",
   "name": "python",
   "nbconvert_exporter": "python",
   "pygments_lexer": "ipython3",
   "version": "3.8.8"
  },
  "orig_nbformat": 4
 },
 "nbformat": 4,
 "nbformat_minor": 2
}
