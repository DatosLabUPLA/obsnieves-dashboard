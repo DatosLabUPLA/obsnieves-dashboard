{
 "cells": [
  {
   "cell_type": "code",
   "execution_count": 78,
   "metadata": {},
   "outputs": [],
   "source": [
    "import pandas as pd \n",
    "import plotly.express as px\n",
    "import os\n",
    "import datetime\n",
    "from plotly.offline import download_plotlyjs, init_notebook_mode, plot, iplot"
   ]
  },
  {
   "cell_type": "code",
   "execution_count": 79,
   "metadata": {},
   "outputs": [],
   "source": [
    "#DATAFRAME LANDSAT\n",
    "landsat_mensual=pd.read_csv('data/Landsat Visualizador Mensual.csv')\n",
    "landsat_anual=pd.read_csv('data/Landsat Visualizador Anual.csv')\n",
    "\n",
    "#DATAFRAME SENTINEL\n",
    "sentinel_mensual=pd.read_csv('data/Sentinel 2 Visualizador Mensual.csv')\n",
    "sentinel_anual=pd.read_csv('data/Sentinel 2 Visualizador Anual.csv')\n",
    "\n",
    "#DATAFRAME MODIS\n",
    "MOD10A1_DOY=pd.read_csv('data/MOD10A1 CurrentState DOY.csv')\n",
    "MOD10A1_DOY_central=pd.read_csv('data/MOD10A1 CurrentState DOY zona central.csv')\n",
    "MOD10A1_MYD10A_mensual=pd.read_csv('data/MOD10A1 y MYD10A1 MonthlyIntercopartion.csv')\n",
    "MOD10A1_MYD10A_anual=pd.read_csv('data/MOD10A1 y MYD10A1 YearlyIntercopartion.csv')\n",
    "\n",
    "MOD10A1_Descargas_Mensuales=pd.read_csv('data/MOD10A1 Descargas Promedio Mensual.csv')\n",
    "MOD10A1_Descargas_Mensual_Año=pd.read_csv('data/MOD10A1 Descargas Promedio Mensual por Año.csv')\n",
    "MOD10A1_Descargas_Anuales=pd.read_csv('data/MOD10A1 Descargas Promedio Anual.csv')\n",
    "MOD10A1_NDSI_diario=pd.read_csv('data/NDSI diario MOD10A1 2000-2010.csv')\n",
    "MOD10A1_NDSI_diario_2=pd.read_csv('data/NDSI diario MOD10A1 2010-2020.csv')"
   ]
  },
  {
   "cell_type": "code",
   "execution_count": 80,
   "metadata": {},
   "outputs": [],
   "source": [
    "def make_html(fig=None, dir_base:str=None, html_file_name:str=None):\n",
    "    try:\n",
    "        production = False\n",
    "        current_time = datetime.datetime.now()\n",
    "        output = f'{current_time}: {html_file_name}'\n",
    "        if production:\n",
    "            download_dir_base = 'web/media/' + dir_base\n",
    "        else:\n",
    "            download_dir_base = 'Downloads/' + dir_base\n",
    "        download_dir = os.path.join(os.path.expanduser('~'), download_dir_base)\n",
    "        if not os.path.exists(download_dir):\n",
    "            os.makedirs(download_dir)\n",
    "        html_file = os.path.join(download_dir, html_file_name)\n",
    "        fig.write_html(html_file, include_plotlyjs=\"cdn\")\n",
    "        print(output)\n",
    "    except Exception as e:\n",
    "        print(e)"
   ]
  },
  {
   "cell_type": "code",
   "execution_count": 81,
   "metadata": {},
   "outputs": [
    {
     "name": "stdout",
     "output_type": "stream",
     "text": [
      "2022-05-20 15:28:28.204263: promedio_mensual_ndsi_1989_2020.html\n"
     ]
    }
   ],
   "source": [
    "# Landsat mensual\n",
    "landsat_mensual.rename(columns = {'month':'Meses','NDSI Landsat':'Promedio %'} , inplace = True)\n",
    "fig = px.line(landsat_mensual.replace({1:\"enero\", 2:\"febrero\", 3:\"marzo\", 4:\"abril\", 5:\"mayo\", 6:\"junio\", 7:\"julio\", 8:\"agosto\", 9:\"septiembre\", 10:\"octubre\", 11:\"noviembre\", 12:\"diciembre\"}),\n",
    "x='Meses', y='Promedio %', line_shape='spline',title='Promedio mensual NDSI sobre las subcuencas media y alta del Rio Aconcagua, usando Landsat. 1989-2020')\n",
    "# fig.show()\n",
    "\n",
    "# Generar HTML\n",
    "dir_base = 'graph/landsat/mensual'\n",
    "html_file_name = 'promedio_mensual_ndsi_1989_2020.html'\n",
    "make_html(fig, dir_base, html_file_name)"
   ]
  },
  {
   "cell_type": "code",
   "execution_count": 82,
   "metadata": {},
   "outputs": [
    {
     "name": "stdout",
     "output_type": "stream",
     "text": [
      "2022-05-20 15:28:28.647262: promedio_anual_ndsi_1989_2020.html\n"
     ]
    }
   ],
   "source": [
    "# Landsat anual\n",
    "landsat_anual.rename(columns = {'year':'Años','NDSI Landsat':'Promedio %'} , inplace = True)\n",
    "fig = px.line(landsat_anual,x='Años', y='Promedio %', line_shape='spline', title='Promedio anual NDSI sobre las subcuencas media y alta del Rio Aconcagua, usando Landsat. 1989-2020')\n",
    "# fig.show()\n",
    "\n",
    "# Generar HTML\n",
    "dir_base = 'graph/landsat/anual'\n",
    "html_file_name = 'promedio_anual_ndsi_1989_2020.html'\n",
    "make_html(fig, dir_base, html_file_name)"
   ]
  },
  {
   "cell_type": "code",
   "execution_count": 83,
   "metadata": {},
   "outputs": [
    {
     "name": "stdout",
     "output_type": "stream",
     "text": [
      "2022-05-20 15:28:28.947263: promedio_mensual_ndsi_2015_2020.html\n"
     ]
    }
   ],
   "source": [
    "# Sentinel mensual\n",
    "sentinel_mensual.rename(columns = {'month':'Meses','NDSI Sentinel-2':'Promedio %'}, inplace = True)\n",
    "fig = px.line(sentinel_mensual.replace({1:\"enero\", 2:\"febrero\", 3:\"marzo\", 4:\"abril\", 5:\"mayo\", 6:\"junio\", 7:\"julio\", 8:\"agosto\", 9:\"septiembre\", 10:\"octubre\", 11:\"noviembre\", 12:\"diciembre\"}),\n",
    "x='Meses', y='Promedio %', line_shape='spline', title='Promedio mensual NDSI sobre las subcuencas media y alta del Rio Aconcagua, usando Sentinel-2, 2015-2020')\n",
    "# fig.show()\n",
    "\n",
    "# Generar HTML\n",
    "dir_base = 'graph/sentinel/mensual'\n",
    "html_file_name = 'promedio_mensual_ndsi_2015_2020.html'\n",
    "make_html(fig, dir_base, html_file_name)"
   ]
  },
  {
   "cell_type": "code",
   "execution_count": 84,
   "metadata": {},
   "outputs": [
    {
     "name": "stdout",
     "output_type": "stream",
     "text": [
      "2022-05-20 15:28:29.152262: promedio_anual_ndsi_2016_2020.html\n"
     ]
    }
   ],
   "source": [
    "# Sentinel anual\n",
    "sentinel_anual.rename(columns = {'year':'Años','NDSI Sentinel-2':'Promedio %'}, inplace = True)\n",
    "fig = px.line(sentinel_anual,x='Años', y='Promedio %', line_shape='spline', title='Promedio anual NDSI sobre las subcuencas media y alta del Rio Aconcagua, usando Sentinel-2, 2016-2020')\n",
    "# fig.show()\n",
    "\n",
    "# Generar HTML\n",
    "dir_base = 'graph/sentinel/anual'\n",
    "html_file_name = 'promedio_anual_ndsi_2016_2020.html'\n",
    "make_html(fig, dir_base, html_file_name)"
   ]
  },
  {
   "cell_type": "code",
   "execution_count": 85,
   "metadata": {},
   "outputs": [
    {
     "name": "stdout",
     "output_type": "stream",
     "text": [
      "2022-05-20 15:28:29.454265: promedio_doy_2000_2021.html\n"
     ]
    }
   ],
   "source": [
    "# Modis terra doy general\n",
    "MOD10A1_DOY.rename(columns = {'DAY_OF_YEAR':'Día del año'}, inplace = True)\n",
    "fig = px.line(MOD10A1_DOY,x='Día del año', y=['NDSI actual','NDSI histórico'], line_shape='spline', \n",
    "title='Promedio NDSI por día del año en la sección media y superior de las cuencas de la zona central del país, usando MOD10A1. 2000-2021')\n",
    "# fig.show()\n",
    "\n",
    "# Generar HTML\n",
    "dir_base = 'graph/modis/terra/doy'\n",
    "html_file_name = 'promedio_doy_2000_2021.html'\n",
    "make_html(fig, dir_base, html_file_name)"
   ]
  },
  {
   "cell_type": "code",
   "execution_count": 86,
   "metadata": {},
   "outputs": [
    {
     "name": "stdout",
     "output_type": "stream",
     "text": [
      "2022-05-20 15:28:29.709262: promedio_doy_central_2000_2021.html\n"
     ]
    }
   ],
   "source": [
    "# Modis terra doy\n",
    "MOD10A1_DOY_central.rename(columns = {'DAY_OF_YEAR':'Día del año'}, inplace = True)\n",
    "fig = px.line(MOD10A1_DOY_central,x='Día del año', y=['NDSI actual','NDSI histórico'], line_shape='spline',\n",
    "title='Promedio NDSI por día del año en la sección media y superior de las cuencas de la zona central del país, usando MOD10A1. 2000-2021')\n",
    "# fig.show()\n",
    "\n",
    "# Generar HTML\n",
    "dir_base = 'graph/modis/terra/doy'\n",
    "html_file_name = 'promedio_doy_central_2000_2021.html'\n",
    "make_html(fig, dir_base, html_file_name)"
   ]
  },
  {
   "cell_type": "code",
   "execution_count": 87,
   "metadata": {},
   "outputs": [
    {
     "name": "stdout",
     "output_type": "stream",
     "text": [
      "2022-05-20 15:28:29.940262: promedio_mensual_2000_2020.html\n"
     ]
    }
   ],
   "source": [
    "# Modis terra y aqua\n",
    "MOD10A1_MYD10A_mensual.rename(columns = {'month':'Meses'}, inplace = True)\n",
    "fig = px.line(MOD10A1_MYD10A_mensual.replace({1:\"enero\", 2:\"febrero\", 3:\"marzo\", 4:\"abril\", 5:\"mayo\", 6:\"junio\", 7:\"julio\", 8:\"agosto\", 9:\"septiembre\", 10:\"octubre\", 11:\"noviembre\", 12:\"diciembre\"}),\n",
    "x='Meses', y=['NDSI_Aqua','NDSI_Terra'], line_shape='spline',\n",
    "title='Promedio mensual NDSI sobre las subcuencas media y alta del Rio Aconcagua, usando MOD10A1 (Terra) y MYD10A1 (Aqua). 2000-2020')\n",
    "# fig.show()\n",
    "\n",
    "# Generar HTML\n",
    "dir_base = 'graph/modis/mensual'\n",
    "html_file_name = 'promedio_mensual_2000_2020.html'\n",
    "make_html(fig, dir_base, html_file_name)"
   ]
  },
  {
   "cell_type": "code",
   "execution_count": 88,
   "metadata": {},
   "outputs": [
    {
     "name": "stdout",
     "output_type": "stream",
     "text": [
      "2022-05-20 15:28:30.332261: promedio_anual_2000_2020.html\n"
     ]
    }
   ],
   "source": [
    "# Modis terra y aqua anual\n",
    "MOD10A1_MYD10A_anual.rename(columns = {'year':'Años'}, inplace = True)\n",
    "fig = px.line(MOD10A1_MYD10A_anual,x='Años', y=['NDSI Aqua','NDSI Terra'], line_shape='spline',\n",
    "title='Promedio anual NDSI sobre las subcuencas media y alta del Rio Aconcagua, usando MOD10A1 (Terra) y MYD10A1 (Aqua). 2000-2020')\n",
    "# fig.show()\n",
    "\n",
    "# Generar HTML\n",
    "dir_base = 'graph/modis/anual'\n",
    "html_file_name = 'promedio_anual_2000_2020.html'\n",
    "make_html(fig, dir_base, html_file_name)"
   ]
  },
  {
   "cell_type": "code",
   "execution_count": 89,
   "metadata": {},
   "outputs": [
    {
     "name": "stdout",
     "output_type": "stream",
     "text": [
      "2022-05-20 15:28:30.699264: promedio_mensual_descargas_2000_2020.html\n"
     ]
    }
   ],
   "source": [
    "# Modis terra descargas\n",
    "MOD10A1_Descargas_Mensuales.rename(columns = {'month':'Meses'}, inplace = True)\n",
    "fig = px.line(MOD10A1_Descargas_Mensuales.replace({1:\"enero\", 2:\"febrero\", 3:\"marzo\", 4:\"abril\", 5:\"mayo\", 6:\"junio\", 7:\"julio\", 8:\"agosto\", 9:\"septiembre\", 10:\"octubre\", 11:\"noviembre\", 12:\"diciembre\"}),\n",
    "x='Meses', y=['NDSI_Snow_Cover','Snow_Cover_Area','nodata_data'], line_shape='spline',\n",
    "title='Promedios mensuales NDSI, Snow Cover Area y Nodata (nubes) sección media-superior cuenca del Río Aconcagua usando MOD10A1. 2000-2020')\n",
    "# fig.show()\n",
    "\n",
    "# Generar HTML\n",
    "dir_base = 'graph/modis/terra/mensual'\n",
    "html_file_name = 'promedio_mensual_descargas_2000_2020.html'\n",
    "make_html(fig, dir_base, html_file_name)"
   ]
  },
  {
   "cell_type": "code",
   "execution_count": 90,
   "metadata": {},
   "outputs": [
    {
     "name": "stdout",
     "output_type": "stream",
     "text": [
      "2022-05-20 15:28:30.954262: promedio_mensual_anual_2000_2020.html\n"
     ]
    }
   ],
   "source": [
    "# Modis terra\n",
    "MOD10A1_Descargas_Mensual_Año.rename(columns = {'system:time_start':'Tiempo'}, inplace = True)\n",
    "fig = px.line(MOD10A1_Descargas_Mensual_Año,x='Tiempo', y=['NDSI_Snow_Cover','Snow_Cover_Area','nodata_data'], line_shape='spline',\n",
    "title='Promedios mensuales por año NDSI, Snow Cover Area y Nodata (nubes) sección media-superior cuenca del Río Aconcagua usando MOD10A1. 2000-2020')\n",
    "# fig.show()\n",
    "\n",
    "# Generar HTML\n",
    "dir_base = 'graph/modis/terra/mensual'\n",
    "html_file_name = 'promedio_mensual_anual_2000_2020.html'\n",
    "make_html(fig, dir_base, html_file_name)\n"
   ]
  },
  {
   "cell_type": "code",
   "execution_count": 91,
   "metadata": {},
   "outputs": [
    {
     "name": "stdout",
     "output_type": "stream",
     "text": [
      "2022-05-20 15:28:31.275262: promedio_anual_descargas_2000_2020.html\n"
     ]
    }
   ],
   "source": [
    "# Modis terra descargas anuales\n",
    "MOD10A1_Descargas_Anuales.rename(columns = {'system:time_start':'Tiempo'}, inplace = True)\n",
    "fig = px.line(MOD10A1_Descargas_Anuales,x='Tiempo', y=['NDSI_Snow_Cover','Snow_Cover_Area','nodata_data'], line_shape='spline',\n",
    "title='Promedios anuales NDSI, Snowcover y Nodata (nubes) sección media-superior cuenca del Río Aconcagua usando MOD10A1. 2000-2020')\n",
    "# fig.show()\n",
    "\n",
    "# Generar HTML\n",
    "dir_base = 'graph/modis/terra/anual'\n",
    "html_file_name = 'promedio_anual_descargas_2000_2020.html'\n",
    "make_html(fig, dir_base, html_file_name)"
   ]
  },
  {
   "cell_type": "code",
   "execution_count": 92,
   "metadata": {},
   "outputs": [
    {
     "name": "stdout",
     "output_type": "stream",
     "text": [
      "2022-05-20 15:28:31.581263: promedio_doy_anual_ndsi_2000_2020.html\n"
     ]
    }
   ],
   "source": [
    "# Modis terra ndsi diario\n",
    "MOD10A1_NDSI_diario.rename(columns = {'system:time_start':'Tiempo'}, inplace = True)\n",
    "fig = px.line(MOD10A1_NDSI_diario,x='Tiempo', y=['NDSI_Snow_Cover','Snow_Cover_Area','nodata_data'], \n",
    "title='Promedios anuales NDSI, Snowcover y Nodata (nubes) sección media-superior cuenca del Río Aconcagua usando MOD10A1. 2000-2020')\n",
    "# fig.show()\n",
    "\n",
    "# Generar HTML\n",
    "dir_base = 'graph/modis/terra/anual'\n",
    "html_file_name = 'promedio_doy_anual_ndsi_2000_2020.html'\n",
    "make_html(fig, dir_base, html_file_name)"
   ]
  },
  {
   "cell_type": "code",
   "execution_count": 93,
   "metadata": {},
   "outputs": [
    {
     "name": "stdout",
     "output_type": "stream",
     "text": [
      "2022-05-20 15:28:31.941263: promedio_doy_ndsi_2000_2020.html\n"
     ]
    }
   ],
   "source": [
    "# Modis terra ndsi diario\n",
    "MOD10A1_NDSI_diario_2.rename(columns = {'system:time_start':'Tiempo'}, inplace = True)\n",
    "fig = px.line(MOD10A1_NDSI_diario_2,x='Tiempo', y=['NDSI_Snow_Cover','Snow_Cover_Area','nodata_data'], \n",
    "title='Promedios anuales NDSI, Snowcover y Nodata (nubes) sección media-superior cuenca del Río Aconcagua usando MOD10A1. 2000-2020')\n",
    "# fig.show()\n",
    "\n",
    "# Generar HTML\n",
    "dir_base = 'graph/modis/terra/doy'\n",
    "html_file_name = 'promedio_doy_ndsi_2000_2020.html'\n",
    "make_html(fig, dir_base, html_file_name)"
   ]
  }
 ],
 "metadata": {
  "interpreter": {
   "hash": "811ab489599c171fb6d0eaf76a606e9022cc89f8dbf213b9dc9043c9c727f5d4"
  },
  "kernelspec": {
   "display_name": "Python 3.8.8 ('geo')",
   "language": "python",
   "name": "python3"
  },
  "language_info": {
   "codemirror_mode": {
    "name": "ipython",
    "version": 3
   },
   "file_extension": ".py",
   "mimetype": "text/x-python",
   "name": "python",
   "nbconvert_exporter": "python",
   "pygments_lexer": "ipython3",
   "version": "3.8.8"
  },
  "orig_nbformat": 4
 },
 "nbformat": 4,
 "nbformat_minor": 2
}
