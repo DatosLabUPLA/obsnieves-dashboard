{
 "cells": [
  {
   "cell_type": "code",
   "execution_count": 1,
   "metadata": {},
   "outputs": [],
   "source": [
    "import ee\n",
    "import geemap\n",
    "import os"
   ]
  },
  {
   "cell_type": "code",
   "execution_count": 2,
   "metadata": {},
   "outputs": [],
   "source": [
    "service_account = 'promedio-a--de-nieve-6bbfb64d1@ee-ezequiellagos.iam.gserviceaccount.com'\n",
    "credentials = ee.ServiceAccountCredentials(service_account, 'ee-ezequiellagos-0e8769baf6cb.json')\n",
    "ee.Initialize(credentials)"
   ]
  },
  {
   "cell_type": "code",
   "execution_count": 3,
   "metadata": {},
   "outputs": [
    {
     "data": {
      "application/vnd.jupyter.widget-view+json": {
       "model_id": "b8290a525c924ce4a184c517097ff751",
       "version_major": 2,
       "version_minor": 0
      },
      "text/plain": [
       "Map(center=[-32.839, -70.8484], controls=(WidgetControl(options=['position', 'transparent_bg'], widget=HBox(ch…"
      ]
     },
     "metadata": {},
     "output_type": "display_data"
    }
   ],
   "source": [
    "Map = geemap.Map(center=[-32.839,-70.8484], zoom=9)\n",
    "\n",
    "MOD10A1_Snow_Yearly = ee.Image('users/observatorionieves/MODIS/MOD10A1_Snow_Yearly/2000').select('NDSI_Snow_Cover')\n",
    "streamflow = ee.FeatureCollection(\"WWF/HydroSHEDS/v1/FreeFlowingRivers\").filter(ee.Filter.eq('BAS_ID', 3975615)).style(color= 'B2B2B3')\n",
    "aconcagua_cuenca = ee.FeatureCollection(\"users/observatorionieves/DGA/aconcagua_cuenca\").style(color= '000000', width=1, fillColor= '00000000')\n",
    "subsubcuencas_ms = ee.FeatureCollection(\"users/observatorionieves/DGA/aconcagua_subsubcuencas_ms\").style(color= '000000', width= 1, fillColor= '00000000')\n",
    "\n",
    "palette_scf = ['#ffffff','#ffffd9','#edf8b1','#c7e9b4','#7fcdbb','#41b6c4','#1d91c0','#225ea8','#253494','#081d58']\n",
    "colorizedVis = {\n",
    "  'min': 0.0,\n",
    "  'max': 100.0,\n",
    "  'palette': palette_scf,\n",
    "}\n",
    "\n",
    "Map.add_basemap('SATELLITE')\n",
    "Map.addLayer(MOD10A1_Snow_Yearly,colorizedVis,\"Promedio anual del Indice Normalizado de Nieve (NDSI)\")\n",
    "Map.addLayer(streamflow,{},'Red hídrica') \n",
    "Map.addLayer(aconcagua_cuenca,{},'Aconcagua cuenca')\n",
    "Map.addLayer(subsubcuencas_ms,{},'Aconcagua subsubcuencas')\n",
    "Map"
   ]
  },
  {
   "cell_type": "code",
   "execution_count": 4,
   "metadata": {},
   "outputs": [
    {
     "data": {
      "application/vnd.jupyter.widget-view+json": {
       "model_id": "92f1c4c24bf1452599231f292d13043a",
       "version_major": 2,
       "version_minor": 0
      },
      "text/plain": [
       "Map(center=[-32.839, -70.8484], controls=(WidgetControl(options=['position', 'transparent_bg'], widget=HBox(ch…"
      ]
     },
     "metadata": {},
     "output_type": "display_data"
    }
   ],
   "source": [
    "Map = geemap.Map(center=[-32.839,-70.8484], zoom=9)\n",
    "\n",
    "MYD10A1_Snow_Yearly = ee.Image('users/observatorionieves/MODIS/MYD10A1_Snow_Yearly/2003').select('NDSI_Snow_Cover')\n",
    "streamflow = ee.FeatureCollection(\"WWF/HydroSHEDS/v1/FreeFlowingRivers\").filter(ee.Filter.eq('BAS_ID', 3975615)).style(color= 'B2B2B3')\n",
    "aconcagua_cuenca = ee.FeatureCollection(\"users/observatorionieves/DGA/aconcagua_cuenca\").style(color= '000000', width=1, fillColor= '00000000')\n",
    "subsubcuencas_ms = ee.FeatureCollection(\"users/observatorionieves/DGA/aconcagua_subsubcuencas_ms\").style(color= '000000', width= 1, fillColor= '00000000')\n",
    "\n",
    "palette_scf = ['#ffffff','#ffffd9','#edf8b1','#c7e9b4','#7fcdbb','#41b6c4','#1d91c0','#225ea8','#253494','#081d58']\n",
    "colorizedVis = {\n",
    "  'min': 0.0,\n",
    "  'max': 100.0,\n",
    "  'palette': palette_scf,\n",
    "}\n",
    "\n",
    "Map.add_basemap('SATELLITE')\n",
    "Map.addLayer(MYD10A1_Snow_Yearly,colorizedVis,\"Promedio anual del Indice Normalizado de Nieve (NDSI)\") \n",
    "Map.addLayer(streamflow,{},'Red hídrica') \n",
    "Map.addLayer(aconcagua_cuenca,{},'Aconcagua cuenca')\n",
    "Map.addLayer(subsubcuencas_ms,{},'Aconcagua subsubcuencas')\n",
    "Map"
   ]
  }
 ],
 "metadata": {
  "interpreter": {
   "hash": "402c1ccfd131d8eef133abc97063dd0df0ccc9d667fd2ffe963518e290673b28"
  },
  "kernelspec": {
   "display_name": "Python 3.8.12 64-bit ('ee': conda)",
   "language": "python",
   "name": "python3"
  },
  "language_info": {
   "codemirror_mode": {
    "name": "ipython",
    "version": 3
   },
   "file_extension": ".py",
   "mimetype": "text/x-python",
   "name": "python",
   "nbconvert_exporter": "python",
   "pygments_lexer": "ipython3",
   "version": "3.8.12"
  },
  "orig_nbformat": 4
 },
 "nbformat": 4,
 "nbformat_minor": 2
}
