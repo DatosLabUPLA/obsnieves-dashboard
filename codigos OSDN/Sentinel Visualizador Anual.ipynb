{
 "cells": [
  {
   "cell_type": "code",
   "execution_count": 4,
   "metadata": {},
   "outputs": [],
   "source": [
    "import ee\n",
    "import geemap\n",
    "import os\n",
    "import datetime"
   ]
  },
  {
   "cell_type": "code",
   "execution_count": 2,
   "metadata": {},
   "outputs": [],
   "source": [
    "service_account = 'promedio-a--de-nieve-6bbfb64d1@ee-ezequiellagos.iam.gserviceaccount.com'\n",
    "credentials = ee.ServiceAccountCredentials(service_account, 'ee-ezequiellagos-0e8769baf6cb.json')\n",
    "ee.Initialize(credentials)"
   ]
  },
  {
   "cell_type": "code",
   "execution_count": 11,
   "metadata": {},
   "outputs": [
    {
     "name": "stdout",
     "output_type": "stream",
     "text": [
      "2022-05-17 15:45:34.407973: Sentinel Anual 2016\n",
      "2022-05-17 15:45:37.636235: Sentinel Anual 2017\n",
      "2022-05-17 15:45:40.706235: Sentinel Anual 2018\n",
      "2022-05-17 15:45:43.796236: Sentinel Anual 2019\n",
      "2022-05-17 15:45:46.798319: Sentinel Anual 2020\n",
      "Image.load: Image asset 'users/observatorionieves/Sentinel/Snow_Yearly/Sentinel_Snow_Yearly_2021' not found.\n",
      "Image.load: Image asset 'users/observatorionieves/Sentinel/Snow_Yearly/Sentinel_Snow_Yearly_2022' not found.\n"
     ]
    }
   ],
   "source": [
    "now = datetime.datetime.now()\n",
    "\n",
    "for year in range(2016, now.year + 1):\n",
    "  try:\n",
    "    current_time = datetime.datetime.now()\n",
    "    \n",
    "    Map = geemap.Map(center=[-32.639,-70.8484], zoom=9)\n",
    "    Map.clear_controls()\n",
    "\n",
    "    snowyearly = ee.Image('users/observatorionieves/Sentinel/Snow_Yearly/Sentinel_Snow_Yearly_' + str(year))\n",
    "    streamflow = ee.FeatureCollection(\"WWF/HydroSHEDS/v1/FreeFlowingRivers\").filter(ee.Filter.eq('BAS_ID', 3975615)).style(color= 'B2B2B3')\n",
    "    aconcagua_cuenca = ee.FeatureCollection(\"users/observatorionieves/DGA/aconcagua_cuenca\").style(color= '000', width=1, fillColor= '00000000')\n",
    "    subsubcuencas_ms = ee.FeatureCollection(\"users/observatorionieves/DGA/aconcagua_subsubcuencas_ms\").style(color= '000', width= 1, fillColor= '00000000')\n",
    "\n",
    "    colorizedVis = {\n",
    "      'min': 0.0,\n",
    "      'max': 100.0,\n",
    "      'palette': ['#ffffff','#ffffd9','#edf8b1','#c7e9b4','#7fcdbb','#41b6c4','#1d91c0','#225ea8','#253494','#081d58']\n",
    "    }\n",
    "\n",
    "    Map.add_basemap('SATELLITE')\n",
    "    Map.addLayer(snowyearly,colorizedVis,\"Nieve caída\") \n",
    "    Map.addLayer(streamflow,{},'Red hídrica') \n",
    "    Map.addLayer(aconcagua_cuenca,{},'Aconcagua cuenca')\n",
    "    Map.addLayer(subsubcuencas_ms,{},'Aconcagua subsubcuencas')\n",
    "    Map.add_colorbar(colorizedVis, label='Promedio de presencia de nieve (%)'),#orientation='vertical')\n",
    "\n",
    "    # Map\n",
    "\n",
    "    # Generar HTML\n",
    "    production = False\n",
    "    if production:\n",
    "        download_dir_base = 'web/media/maps/sentinel/anual'\n",
    "    else:\n",
    "        download_dir_base = 'Downloads/maps/sentinel/anual'\n",
    "    \n",
    "    html_file_name = str(year) + '.html'\n",
    "    title_html = 'Sentinel Anual - ' + str(year)\n",
    "    output = f'{current_time}: Sentinel Anual {year}'\n",
    "\n",
    "    download_dir = os.path.join(os.path.expanduser('~'), download_dir_base)\n",
    "    if not os.path.exists(download_dir):\n",
    "        os.makedirs(download_dir)\n",
    "    html_file = os.path.join(download_dir, html_file_name)\n",
    "\n",
    "    Map.to_html(outfile=html_file, title=title_html, width='100%', height='570px')\n",
    "    print(output)\n",
    "  except Exception as e:\n",
    "    print(e)\n",
    "    continue\n",
    "\n"
   ]
  }
 ],
 "metadata": {
  "interpreter": {
   "hash": "811ab489599c171fb6d0eaf76a606e9022cc89f8dbf213b9dc9043c9c727f5d4"
  },
  "kernelspec": {
   "display_name": "Python 3.8.8 ('geo')",
   "language": "python",
   "name": "python3"
  },
  "language_info": {
   "codemirror_mode": {
    "name": "ipython",
    "version": 3
   },
   "file_extension": ".py",
   "mimetype": "text/x-python",
   "name": "python",
   "nbconvert_exporter": "python",
   "pygments_lexer": "ipython3",
   "version": "3.8.8"
  },
  "orig_nbformat": 4
 },
 "nbformat": 4,
 "nbformat_minor": 2
}
