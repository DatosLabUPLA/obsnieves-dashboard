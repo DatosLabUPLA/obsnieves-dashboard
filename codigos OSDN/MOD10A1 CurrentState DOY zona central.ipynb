{
 "cells": [
  {
   "cell_type": "code",
   "execution_count": 13,
   "metadata": {},
   "outputs": [],
   "source": [
    "import ee\n",
    "import geemap\n",
    "import os\n",
    "import datetime"
   ]
  },
  {
   "cell_type": "code",
   "execution_count": 2,
   "metadata": {},
   "outputs": [],
   "source": [
    "service_account = 'promedio-a--de-nieve-6bbfb64d1@ee-ezequiellagos.iam.gserviceaccount.com'\n",
    "credentials = ee.ServiceAccountCredentials(service_account, 'ee-ezequiellagos-0e8769baf6cb.json')\n",
    "ee.Initialize(credentials)"
   ]
  },
  {
   "cell_type": "code",
   "execution_count": 21,
   "metadata": {},
   "outputs": [
    {
     "name": "stdout",
     "output_type": "stream",
     "text": [
      "2022-05-17 14:56:16.686029: MODIS Terra DOY Zona Central 2022_05_13\n"
     ]
    }
   ],
   "source": [
    "days_delta = 4\n",
    "date = datetime.datetime.now() - datetime.timedelta(days=days_delta)\n",
    "date = date.strftime('%Y_%m_%d')\n",
    "\n",
    "try:\n",
    "  current_time = datetime.datetime.now()\n",
    "\n",
    "  Map = geemap.Map(center=[-32.839,-70.8484], zoom=7)\n",
    "\n",
    "  zona_central_cuencas_ms = ee.FeatureCollection(\"users/observatorionieves/Cuencas/cuencas_zona_central_ms\")\n",
    "  streamflow = ee.FeatureCollection(\"WWF/HydroSHEDS/v1/FreeFlowingRivers\").filter(ee.Filter.eq('cuencas_zona_central_ms', 3975615)).style(color= 'B2B2B3')\n",
    "  zona_central_cuencas = ee.FeatureCollection(\"users/observatorionieves/Cuencas/cuencas_zona_central\").style(fillColor= '00000000',color= '#FF0000', width= 1)\n",
    "  MODIScollection = ee.Image('MODIS/006/MOD10A1/' + date).select('NDSI_Snow_Cover').clip(zona_central_cuencas_ms)\n",
    "\n",
    "  colorizedVis = {\n",
    "    'min': 0.0,\n",
    "    'max': 100.0,\n",
    "    'palette': ['#ffffff','#ffffd9','#edf8b1','#c7e9b4','#7fcdbb','#41b6c4','#1d91c0','#225ea8','#253494','#081d58']\n",
    "  }\n",
    "\n",
    "  Map.add_basemap('SATELLITE')\n",
    "  Map.addLayer(MODIScollection,colorizedVis,\"Nieve caída\") \n",
    "  Map.addLayer(streamflow,{}, 'Red hídrica') \n",
    "  Map.addLayer(zona_central_cuencas,{}, 'Cuencas zona central de Chile')\n",
    "  Map.addLayer(zona_central_cuencas_ms.style(color= '#000000', width=1, fillColor= '00000000'),{}, 'SubSubcuencas sección media-superior zona central de Chile visualization parameters')\n",
    "  # Map\n",
    "\n",
    "  # Generar HTML\n",
    "  production = False\n",
    "  if production:\n",
    "      download_dir_base = 'web/media/maps/modis/doy/terra'\n",
    "  else:\n",
    "      download_dir_base = 'Downloads/maps/modis/doy/terra'\n",
    "  \n",
    "  html_file_name = 'zona_central_' + date + '.html'\n",
    "  title_html = 'MODIS Terra DOY Zona Central - '+ date\n",
    "  output = f'{current_time}: MODIS Terra DOY Zona Central {date}'\n",
    "\n",
    "  download_dir = os.path.join(os.path.expanduser('~'), download_dir_base)\n",
    "  if not os.path.exists(download_dir):\n",
    "      os.makedirs(download_dir)\n",
    "  html_file = os.path.join(download_dir, html_file_name)\n",
    "\n",
    "  Map.to_html(outfile=html_file, title=title_html, width='100%', height='880px')\n",
    "  print(output)\n",
    "\n",
    "except Exception as e:\n",
    "  print(e)\n",
    "\n"
   ]
  },
  {
   "cell_type": "code",
   "execution_count": 20,
   "metadata": {},
   "outputs": [],
   "source": [
    "MODIScollection = ee.ImageCollection('MODIS/006/MOD10A1').select('NDSI_Snow_Cover')\n",
    "# print(MODIScollection.aggregate_array('system:id').getInfo())"
   ]
  }
 ],
 "metadata": {
  "interpreter": {
   "hash": "811ab489599c171fb6d0eaf76a606e9022cc89f8dbf213b9dc9043c9c727f5d4"
  },
  "kernelspec": {
   "display_name": "Python 3.8.8 ('geo')",
   "language": "python",
   "name": "python3"
  },
  "language_info": {
   "codemirror_mode": {
    "name": "ipython",
    "version": 3
   },
   "file_extension": ".py",
   "mimetype": "text/x-python",
   "name": "python",
   "nbconvert_exporter": "python",
   "pygments_lexer": "ipython3",
   "version": "3.8.8"
  },
  "orig_nbformat": 4
 },
 "nbformat": 4,
 "nbformat_minor": 2
}
