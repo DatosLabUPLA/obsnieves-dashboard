{
 "cells": [
  {
   "cell_type": "code",
   "execution_count": 1,
   "metadata": {},
   "outputs": [],
   "source": [
    "import ee\n",
    "import geemap\n",
    "import os"
   ]
  },
  {
   "cell_type": "code",
   "execution_count": 2,
   "metadata": {},
   "outputs": [],
   "source": [
    "service_account = 'promedio-a--de-nieve-6bbfb64d1@ee-ezequiellagos.iam.gserviceaccount.com'\n",
    "credentials = ee.ServiceAccountCredentials(service_account, 'ee-ezequiellagos-0e8769baf6cb.json')\n",
    "ee.Initialize(credentials)"
   ]
  },
  {
   "cell_type": "markdown",
   "metadata": {},
   "source": [
    "# Pendiente de arreglar"
   ]
  },
  {
   "cell_type": "code",
   "execution_count": 4,
   "metadata": {},
   "outputs": [
    {
     "data": {
      "application/vnd.jupyter.widget-view+json": {
       "model_id": "24a6544c847b43e68e1d0ec9c1df6dad",
       "version_major": 2,
       "version_minor": 0
      },
      "text/plain": [
       "Map(center=[-32.839, -70.8484], controls=(WidgetControl(options=['position', 'transparent_bg'], widget=HBox(ch…"
      ]
     },
     "metadata": {},
     "output_type": "display_data"
    }
   ],
   "source": [
    "Map = geemap.Map(center=[-32.839,-70.8484], zoom=7)\n",
    "\n",
    "MODIScollection = ee.ImageCollection('MODIS/006/MOD10A1').select('NDSI_Snow_Cover')\n",
    "streamflow = ee.FeatureCollection(\"WWF/HydroSHEDS/v1/FreeFlowingRivers\").filter(ee.Filter.eq('zona_central_cuencas_ms', 3975615)).style(color= 'B2B2B3',width=1)\n",
    "zona_central_cuencas_ms = ee.FeatureCollection(\"users/observatorionieves/Cuencas/cuencas_zona_central_ms\").style(color= '#000000', width=1, fillColor= '00000000')\n",
    "zona_central_cuencas = ee.FeatureCollection(\"users/observatorionieves/Cuencas/cuencas_zona_central\").style(color= '#FF0000', width= 1, fillColor= '00000000')\n",
    "\n",
    "colorizedVis = {\n",
    "  'min': 0,\n",
    "  'max': 100,\n",
    "  'palette': [ #Paleta obtenida de snowcloudmetrics  https://github.com/SnowCloudMetrics/Earth_Engine_Scripts/blob/master/SnowCloudMetrics_app_ui.txt\n",
    "            'ffffff', #  0 - 10 Blanco\n",
    "            'ffffd9', # 10 - 20 Blanco\n",
    "            'edf8b1', # 20 - 30 Azul              //'ffebbe'\n",
    "            'c7e9b4', # 30 - 40 Celeste\n",
    "            '7fcdbb', # 40 - 50 Celeste\n",
    "            '41b6c4', # 50 - 60 azul claro\n",
    "            '1d91c0', # 60 - 70 crema pálido     //21d291  //179164\n",
    "            '225ea8', # 70 - 80 celeste         //14dada\n",
    "            '253494', # 80 - 90 Azul\n",
    "            '081d58', # 90- 100 Azul\n",
    "],\n",
    "}\n",
    "\n",
    "Map.add_basemap('SATELLITE')\n",
    "\n",
    "Map.addLayer(MODIScollection,colorizedVis,\"Nieve caída\") \n",
    "Map.addLayer(streamflow,{}, 'Red hídrica') \n",
    "Map.addLayer(zona_central_cuencas,{}, 'Cuencas zona central de Chile')\n",
    "Map.addLayer(zona_central_cuencas_ms,{}, 'SubSubcuencas sección media-superior zona central de Chile visualization parameters')\n",
    "Map"
   ]
  }
 ],
 "metadata": {
  "interpreter": {
   "hash": "402c1ccfd131d8eef133abc97063dd0df0ccc9d667fd2ffe963518e290673b28"
  },
  "kernelspec": {
   "display_name": "Python 3.8.12 ('ee')",
   "language": "python",
   "name": "python3"
  },
  "language_info": {
   "codemirror_mode": {
    "name": "ipython",
    "version": 3
   },
   "file_extension": ".py",
   "mimetype": "text/x-python",
   "name": "python",
   "nbconvert_exporter": "python",
   "pygments_lexer": "ipython3",
   "version": "3.8.8"
  },
  "orig_nbformat": 4
 },
 "nbformat": 4,
 "nbformat_minor": 2
}
